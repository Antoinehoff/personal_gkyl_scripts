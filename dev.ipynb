{
 "cells": [
  {
   "cell_type": "code",
   "execution_count": null,
   "id": "7cc91899-4880-4242-a5d5-a2ad71e67203",
   "metadata": {},
   "outputs": [],
   "source": [
    "# First reset the pygkyl library\n",
    "import sys\n",
    "!rm -rf ~/personal_gkyl_scripts/pygkyl/pygkyl.egg-info\n",
    "!rm -rf ~/personal_gkyl_scripts/pygkyl/build\n",
    "!{sys.executable} -m pip install ~/personal_gkyl_scripts/pygkyl > ~/personal_gkyl_scripts/pygkyl/install.log\n",
    "\n",
    "import numpy as np\n",
    "import matplotlib.pyplot as plt\n",
    "import os\n",
    "\n",
    "# Configure plotting\n",
    "plt.rcParams[\"figure.figsize\"] = (6,4)\n",
    "\n",
    "# Custom libraries and routines\n",
    "import pygkyl\n",
    "\n",
    "home_dir = os.path.expanduser(\"~\")\n",
    "repo_dir = home_dir+'/personal_gkyl_scripts/'\n",
    "simdir = repo_dir+'sim_data_dir_example/3x2v_example/gk_tcv_posD_iwl_3x2v_electron_heating/'\n",
    "fileprefix = 'gk_tcv_posD_iwl_3x2v_D02'\n",
    "\n",
    "simulation = pygkyl.simulation_configs.import_config( 'TCV_PT', simdir, fileprefix)\n",
    "\n",
    "simulation.normalization.set('t','mus') # time in micro-seconds\n",
    "simulation.normalization.set('x','minor radius') # radial coordinate normalized by the minor radius (rho=r/a)\n",
    "simulation.normalization.set('y','Larmor radius') # binormal in term of reference sound Larmor radius\n",
    "simulation.normalization.set('z','pi') # parallel angle devided by pi\n",
    "simulation.normalization.set('fluid velocities','thermal velocity') # fluid velocity moments are normalized by the thermal velocity\n",
    "simulation.normalization.set('temperatures','eV') # temperatures in electron Volt\n",
    "simulation.normalization.set('pressures','Pa') # pressures in Pascal\n",
    "simulation.normalization.set('energies','MJ') # energies in mega Joules\n",
    "\n",
    "fieldname = fileprefix+'-field' #e.g. we check the electrostatic field files.\n",
    "sim_frames = pygkyl.file_utils.find_available_frames(simulation,fieldname)\n",
    "print(\"Time frames available from %g to %g\"%(sim_frames[0],sim_frames[-1]))"
   ]
  },
  {
   "cell_type": "code",
   "execution_count": null,
   "id": "429ac7df",
   "metadata": {},
   "outputs": [],
   "source": [
    "cut_direction='x' \n",
    "cut_coords=[0.0,0.0]\n",
    "fieldnames = ['ne','ni','Te','Ti']\n",
    "frames = sim_frames[-2:]\n",
    "pygkyl.plot_utils.plot_1D_time_evolution(\n",
    "    simulation,cut_direction,cut_coords,fieldnames,frames,\n",
    "    space_time = True, fluctuation = 'adgdfsg',plot_type='imshow')"
   ]
  },
  {
   "cell_type": "code",
   "execution_count": null,
   "id": "deb89bb6",
   "metadata": {},
   "outputs": [],
   "source": [
    "cplane='xy' \n",
    "ccoord = 0.0\n",
    "frames = sim_frames[-10:]\n",
    "fieldnames = ['Ti']\n",
    "pygkyl.plot_utils.plot_2D_cut(\n",
    "    simulation, cplane, ccoord, frames, fieldnames,fluctuation = 'relative_yavg', plot_type='imshow')"
   ]
  },
  {
   "cell_type": "code",
   "execution_count": null,
   "id": "c6a7c332",
   "metadata": {},
   "outputs": [],
   "source": [
    "pygkyl.plot_utils.plot_2D_cut(\n",
    "    simulation, cplane, ccoord, frames, fieldnames, fluctuation = 'relative_tavg', plot_type='imshow')"
   ]
  },
  {
   "cell_type": "code",
   "execution_count": null,
   "id": "dc798de6",
   "metadata": {},
   "outputs": [],
   "source": [
    "polproj = pygkyl.PoloidalProjection()\n",
    "polproj.setup(simulation,nzInterp=24)"
   ]
  },
  {
   "cell_type": "code",
   "execution_count": null,
   "id": "091699dd",
   "metadata": {},
   "outputs": [],
   "source": [
    "polproj.plot('ni',timeFrame=sim_frames[-10],fluctuation='yavg')"
   ]
  }
 ],
 "metadata": {
  "kernelspec": {
   "display_name": "pgkyl",
   "language": "python",
   "name": "python3"
  },
  "language_info": {
   "codemirror_mode": {
    "name": "ipython",
    "version": 3
   },
   "file_extension": ".py",
   "mimetype": "text/x-python",
   "name": "python",
   "nbconvert_exporter": "python",
   "pygments_lexer": "ipython3",
   "version": "3.12.3"
  }
 },
 "nbformat": 4,
 "nbformat_minor": 5
}
