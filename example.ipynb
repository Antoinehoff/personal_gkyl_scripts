{
 "cells": [
  {
   "cell_type": "markdown",
   "id": "853fc96f",
   "metadata": {},
   "source": [
    "# Simulation Analysis Notebook\n",
    "\n",
    "This Jupyter Notebook is designed to introduce a user to the PyGkyl library (unofficial naming). \n",
    "It includes many different examples of diagnostic tools that can be used to analyze Gkeyll GK simulation data. \n",
    "\n",
    "Antoine C.D. Hoffmann (@antoinehoff) -- Jan 13, 2025\n",
    "\n",
    "## Table of Contents\n",
    "1. [Prologue](#prologue)<br>\n",
    "    1.1 [Setup and Imports](#setup_imports)<br>\n",
    "    1.2 [Simulation Data Setup](#data_setup)<br>\n",
    "    1.3 [Simulation Class Initialization](#simulation_class)<br>\n",
    "    1.4 [Source Profiles and Input Power](#sources)<br>\n",
    "    1.5 [Time Frame and normalization](#time_frames)<br>\n",
    "\n",
    "2. [Simulation Data Analysis](sim_analysis)<br>\n",
    "    2.1 [1D Profile Relaxation](#1d_profile)<br>\n",
    "    2.2 [Space-Time Diagrams](#space_time)<br>\n",
    "    2.3 [Two-Dimensional Cut](#2d_cut)<br>\n",
    "    2.4 [Space-Time Fluctuation](#st_fluct_plot)<br>\n",
    "    2.5 [Two-Dimensional Fluctuation](#2d_fluct_plot)<br>\n",
    "    2.6 [Time-Averaged Profile](#time_averaged_profile)<br>\n",
    "    2.7 [Flux Surface Time-Average Profiles](#fs_time_averaged_profile)<br>\n",
    "    2.8 [Volume Integral Quantities](#volume_integrals)<br>\n",
    "    2.9 [Grad B Loss](#gradb_loss)<br>\n",
    "    2.10 [Movie Generator](#movie_generator)<br>\n",
    "    2.11 [Phase Space Analysis](#dist_funct)<br>"
   ]
  },
  {
   "cell_type": "markdown",
   "id": "3f8d3fae",
   "metadata": {},
   "source": [
    "## 1. Prologue <a id=\"prologue\"></a>\n",
    "This section imports necessary libraries and custom routines required for the analysis. It also builds a Simulation class instance that will deliver helpful data to the plotting routine. Finally, it looks for the available simulation frames."
   ]
  },
  {
   "cell_type": "markdown",
   "id": "08955a66",
   "metadata": {},
   "source": [
    "### 1.1 Simulation Data Path <a id=\"data_setup\"></a>\n",
    "Set up the path to the simulation data and its file prefix."
   ]
  },
  {
   "cell_type": "code",
   "execution_count": 23,
   "id": "ff587e4f",
   "metadata": {},
   "outputs": [],
   "source": [
    "simdir = 'sim_data_dir_example/3x2v_example/gk_tcv_posD_iwl_3x2v_electron_heating/'\n",
    "fileprefix = 'gk_tcv_posD_iwl_3x2v_D02'"
   ]
  },
  {
   "cell_type": "markdown",
   "id": "7c2202b4",
   "metadata": {},
   "source": [
    "### 1.2 Import PyGkyl <a id=\"setup_import\"></a>\n",
    "Import the pygkyl library"
   ]
  },
  {
   "cell_type": "code",
   "execution_count": null,
   "id": "7cc91899-4880-4242-a5d5-a2ad71e67203",
   "metadata": {},
   "outputs": [],
   "source": [
    "# Uncomment the two following lines if you need to install it\n",
    "#import sys\n",
    "#!{sys.executable} -m pip install ~/personal_gkyl_scripts/pygkyl\n",
    "from pygkyl import Simulation, Species, file_utils, Source, plot_utils"
   ]
  },
  {
   "cell_type": "markdown",
   "id": "572f2ceb",
   "metadata": {},
   "source": [
    "### 1.3 Simulation Class Initialization <a id=\"simulation_class\"></a>\n",
    "Initialize the `Simulation` class (see /python_utilities/classes/simulation.py) and set physical and geometric parameters.\n",
    "\n",
    "The simulation class is made to contain every parameter and information about the simulation we want to analyze. It is meant to store geometry, metric, where the data are located and how they were generated. It will be used by all plot and post processing routines.\n",
    "\n",
    "For now we pass many simulation parameters manually as not all simulation parameters are stored in the output file metadata. This will be adapted later to read directly from the lua script that ran the simulation."
   ]
  },
  {
   "cell_type": "code",
   "execution_count": 3,
   "id": "b703cac7",
   "metadata": {},
   "outputs": [],
   "source": [
    "simulation = Simulation(dimensionality='3x2v')\n",
    "simulation.set_phys_param(\n",
    "    B_axis = 1.4,           # Magnetic field at magnetic axis [T]\n",
    "    eps0 = 8.854e-12,       # Vacuum permittivity [F/m]\n",
    "    eV = 1.602e-19,         # Elementary charge [C]\n",
    "    mp = 1.673e-27,         # Proton mass [kg]\n",
    "    me = 9.109e-31,         # Electron mass [kg]\n",
    ")\n",
    "simulation.set_geom_param(\n",
    "    R_axis      = 0.8727315068,         # Magnetic axis major radius\n",
    "    Z_axis      = 0.1414361745,         # Magnetic axis height\n",
    "    R_LCFSmid   = 1.0968432365089495,   # Major radius of LCFS at the midplane\n",
    "    a_shift     = 0.25,                 # Parameter in Shafranov shift\n",
    "    kappa       = 1.5,                 # Elongation factor\n",
    "    delta       = 0.3,                 # Triangularity factor\n",
    "    q0          = None,                 # Safety factor\n",
    "    x_LCFS      = 0.04,                 # position of the LCFS (= core domain width)\n",
    "    x_out       = 0.08                  # SOL domain width\n",
    ")\n",
    "# Define the species\n",
    "ion = Species(name='ion',\n",
    "              m=2.01410177811*simulation.phys_param.mp, # Ion mass\n",
    "              q=simulation.phys_param.eV,               # Ion charge [C]\n",
    "              T0=100*simulation.phys_param.eV, \n",
    "              n0=2.0e19)\n",
    "elc = Species(name='elc',\n",
    "              m=simulation.phys_param.me, \n",
    "              q=-simulation.phys_param.eV, # Electron charge [C]\n",
    "              T0=100*simulation.phys_param.eV, \n",
    "              n0=2.0e19)\n",
    "# Add them to the simulation (we need to know this before setting up the data parameters)\n",
    "simulation.add_species(ion)\n",
    "simulation.add_species(elc)\n",
    "# This call will set up the data structure of the simulation and set up a large dictionary \n",
    "# conaining the receipes of many post processing quantities, see simulation.data_param.info()\n",
    "simulation.set_data_param( simdir = simdir, fileprefix = fileprefix, species = simulation.species)\n",
    "# This is the first call that will load data. \n",
    "# If the paths are not set up correctly, the script will fail here.\n",
    "simulation.geom_param.load_metric(simulation.data_param.fileprefix)"
   ]
  },
  {
   "cell_type": "markdown",
   "id": "a6195a8c",
   "metadata": {},
   "source": [
    "### 1.4 Source Profiles and Input Power <a id=\"sources\"></a>\n",
    "Define source profiles and calculate input power and particle flux.\n",
    "\n",
    "The sources are passed to the previously defined parameters to the Simulation instance.\n",
    "\n",
    "A small print will display the input of energy and particle by a volume integration of the source profiles using the the Jacobian loaded in the metric."
   ]
  },
  {
   "cell_type": "code",
   "execution_count": null,
   "id": "1a97d728",
   "metadata": {},
   "outputs": [],
   "source": [
    "import numpy as np\n",
    "n_srcOMP=2.4e23\n",
    "x_srcOMP=0.0\n",
    "Te_srcOMP=2 * simulation.species['elc'].T0\n",
    "Ti_srcOMP=2 * simulation.species['ion'].T0\n",
    "sigma_srcOMP=0.03 * simulation.geom_param.Lx\n",
    "floor_src=1e-2\n",
    "def custom_density_src_profile(x,y,z):\n",
    "    return n_srcOMP * (np.exp(-((x - x_srcOMP) ** 2) / (2.0 * sigma_srcOMP ** 2)) + floor_src)\n",
    "def custom_temp_src_profile_elc(x, y = None, z = None):\n",
    "    mask = x < (x_srcOMP + 3 * sigma_srcOMP)\n",
    "    fout = np.empty_like(x)\n",
    "    fout[mask] = Te_srcOMP; fout[~mask] = Te_srcOMP * 3.0 / 8.0\n",
    "    return fout  \n",
    "def custom_temp_src_profile_ion( x, y = None, z = None):\n",
    "    mask = x < (x_srcOMP + 3 * sigma_srcOMP)\n",
    "    fout = np.empty_like(x)\n",
    "    fout[mask] = Ti_srcOMP; fout[~mask] = Ti_srcOMP * 3.0 / 8.0\n",
    "    return fout   \n",
    "OMPsource = Source(n_src=n_srcOMP,x_src=x_srcOMP,Te_src=Te_srcOMP,Ti_src=Ti_srcOMP,\n",
    "                   sigma_src=sigma_srcOMP,floor_src=floor_src,\n",
    "                   density_src_profile=custom_density_src_profile,\n",
    "                   temp_src_profile_elc=custom_temp_src_profile_elc,\n",
    "                   temp_src_profile_ion=custom_temp_src_profile_ion)\n",
    "simulation.add_source('OMPsource',OMPsource)\n",
    "simulation.source_info(type='profile', y_const=0, z_const=0)"
   ]
  },
  {
   "cell_type": "markdown",
   "id": "67621486",
   "metadata": {},
   "source": [
    "### 1.5 Time Frame and normalization <a id=\"time_frames\"></a>\n",
    "Load available time frames and integrated moment diagnostics.\n",
    "\n",
    "We can set up different units for the plots. These calls will adapt automatically all plotting routine, setting up the axes accordingly.\n",
    "\n",
    "We also look for all available frames, i.e. we look for all number XX in \"[fileprefix]-[fieldname]_XX.gkyl\""
   ]
  },
  {
   "cell_type": "code",
   "execution_count": null,
   "id": "5659084a",
   "metadata": {},
   "outputs": [],
   "source": [
    "simulation.normalize('t','mus') # time in micro-seconds\n",
    "simulation.normalize('x','minor radius') # radial coordinate normalized by the minor radius (rho=r/a)\n",
    "simulation.normalize('y','Larmor radius') # binormal in term of reference sound Larmor radius\n",
    "simulation.normalize('z','pi') # parallel angle devided by pi\n",
    "simulation.normalize('fluid velocities','thermal velocity') # fluid velocity moments are normalized by the thermal velocity\n",
    "simulation.normalize('temperatures','eV') # temperatures in electron Volt\n",
    "simulation.normalize('pressures','Pa') # pressures in Pascal\n",
    "simulation.normalize('energies','MJ') # energies in mega Joules\n",
    "\n",
    "fieldname = fileprefix+'-field' #e.g. we check the electrostatic field files.\n",
    "sim_frames = file_utils.find_available_frames(simulation,fieldname)\n",
    "print(\"Time frames available from %g to %g\"%(sim_frames[0],sim_frames[-1]))"
   ]
  },
  {
   "cell_type": "markdown",
   "id": "f3c42e55",
   "metadata": {},
   "source": [
    "## 2. Simulation Data Analysis <a id=\"sim_analysis\"></a>\n",
    "We now use the plot routines defined in `python_utilities/tools/plot_utils.py` to generated various plots from the Simulation instance."
   ]
  },
  {
   "cell_type": "markdown",
   "id": "29955b58",
   "metadata": {},
   "source": [
    "### 2.1 Profile relaxation <a id=\"1d_profile\"></a>\n",
    "Generate a 2D cut plot at a specified plane and time frame.\n",
    "- `cut_direction`   The dimension that remains after the cut. Can be 'x','y','z' and 'ky'.\n",
    "- `cut_coords`      The coordinate of the cut, can be a double corresponding to the physical position (in the normalized units defined above), an integer to select an index or 'avg' to average over the dimension.\n",
    "- `fieldnames`      The fields we want to plot. An array of char will create a multi plot. (see simulation.display_available_fields())\n",
    "- `frames`          The frames to plot\n"
   ]
  },
  {
   "cell_type": "code",
   "execution_count": null,
   "id": "e33dc1e5",
   "metadata": {},
   "outputs": [],
   "source": [
    "cut_direction='x' \n",
    "cut_coords=[0.0,0.0]\n",
    "fieldnames = ['ne','phi','upare','upari','Te','Ti','pe','pi']\n",
    "frames = sim_frames[::10]\n",
    "plot_utils.plot_1D_time_evolution(simulation,cut_direction,cut_coords,fieldnames,frames,space_time = False)"
   ]
  },
  {
   "cell_type": "markdown",
   "id": "53cb3730",
   "metadata": {},
   "source": [
    "### 2.2 Space-Time Diagrams <a id=\"space_time\"></a>\n",
    "Generate space-time diagrams for specified fields. Very useful to see the dynamics without a movie"
   ]
  },
  {
   "cell_type": "code",
   "execution_count": null,
   "id": "b7847901",
   "metadata": {},
   "outputs": [],
   "source": [
    "cut_dir = 'x'\n",
    "cut_coord = [0.0, 0.0]\n",
    "fieldnames = ['ne', 'phi']\n",
    "frames = sim_frames[:]\n",
    "plot_utils.plot_1D_time_evolution(simulation, cut_dir, cut_coord, fieldnames, frames, space_time=True)"
   ]
  },
  {
   "cell_type": "markdown",
   "id": "5c341f88",
   "metadata": {},
   "source": [
    "### 2.3 Two-dimensional Cut <a id=\"2d_cut\"></a>\n",
    "Generate a 2D cut plot at a specified plane and time frame."
   ]
  },
  {
   "cell_type": "code",
   "execution_count": null,
   "id": "8b277620",
   "metadata": {},
   "outputs": [],
   "source": [
    "cut_dir = 'xy' # the plane we want to plot\n",
    "cut_coord = 0.0 # the coordinate were the plan stands If normalized units are defined, \n",
    "# this number is in the normalize units. One can also specify a integer for array index \n",
    "# or 'avg' to get an average over the reduced dim.\n",
    "time_frame = sim_frames[-1] # the time frame\n",
    "fieldnames = ['ne', 'ni', 'phi', 'qdens', 'upare', 'upari', 'Te', 'Ti'] # the fields to plot, see simulation.display_available_fields() (some may not work in 2x2v)\n",
    "plot_utils.plot_2D_cut(simulation, cut_dir, cut_coord, time_frame, fieldnames)"
   ]
  },
  {
   "cell_type": "markdown",
   "id": "2ee802ae",
   "metadata": {},
   "source": [
    "### 2.4 Space Time Fluctuation <a id=\"st_fluct_plot\"></a>\n",
    "Generate a fluctuation plot by averaging over a time window and then substracting this average to each time frame. The average is performed against time only. If `coords` is set to be 'avg', additional averages are performed for both background and fluctuations."
   ]
  },
  {
   "cell_type": "code",
   "execution_count": null,
   "id": "fe48313e",
   "metadata": {},
   "outputs": [],
   "source": [
    "cut_direction='x' \n",
    "cut_coords=[0.0,0.0]\n",
    "fieldnames = ['ne','ni','Te','Ti']\n",
    "frames = sim_frames[-50::2]\n",
    "plot_utils.plot_1D_time_evolution(\n",
    "    simulation,cut_direction,cut_coords,fieldnames,frames,\n",
    "    space_time = True, fluctuation = True,)"
   ]
  },
  {
   "cell_type": "markdown",
   "id": "68fcd474",
   "metadata": {},
   "source": [
    "### 2.5 Two-Dimensional Fluctuation <a id=\"2d_fluct_plot\"></a>\n",
    "Display the fluctuation of a field on a 2D plane"
   ]
  },
  {
   "cell_type": "code",
   "execution_count": null,
   "id": "3bb50cdd",
   "metadata": {},
   "outputs": [],
   "source": [
    "cplane='xz' \n",
    "ccoord = 0.0\n",
    "frames = sim_frames[-50:]\n",
    "fieldnames = ['Ti']\n",
    "plot_utils.plot_2D_cut(\n",
    "    simulation, cplane, ccoord, frames, fieldnames,\n",
    "    time_average = False,fluctuation = True,)"
   ]
  },
  {
   "cell_type": "markdown",
   "id": "eefb0121",
   "metadata": {},
   "source": [
    "### 2.6 Time-Averaged Profile  <a id=\"time_averaged_profile\"></a>\n",
    "Here we show the ExB shear averaged over time of the last 50 frames. We generate also error bars that are related to the standard deviation."
   ]
  },
  {
   "cell_type": "code",
   "execution_count": null,
   "id": "75f41116",
   "metadata": {},
   "outputs": [],
   "source": [
    "cdirection='x'\n",
    "ccoords=['avg',0.0]\n",
    "fieldnames = ['sExBy_x']\n",
    "time_frames = sim_frames[-50:]\n",
    "plot_utils.plot_1D(\n",
    "    simulation,cdirection,ccoords,fieldnames,\n",
    "    time_frames, errorbar = True,)"
   ]
  },
  {
   "cell_type": "markdown",
   "id": "c601334f",
   "metadata": {},
   "source": [
    "### 2.7 Flux Surface Time-Average Profiles <a id=\"fs_time_averaged_profile\"></a>\n",
    "We also add a small example on how to save the figure and replot it."
   ]
  },
  {
   "cell_type": "code",
   "execution_count": null,
   "id": "cda11015-93d5-4eb5-9038-bc1fa82fb58b",
   "metadata": {},
   "outputs": [],
   "source": [
    "figout = []\n",
    "cdirection='x'; ccoords=['avg','avg']\n",
    "plot_utils.plot_1D(\n",
    "        simulation,cdirection,ccoords,\n",
    "        fieldnames = [['ne','ni'],['upare','upari'],\n",
    "                      ['Te','Ti'],['pe','pi'],\n",
    "                      'qdens','phi',\n",
    "                      ['ExB_hflux_xe','ExB_hflux_xi'], ['Wtote','Wtoti']\n",
    "                     ],\n",
    "        time_frames = sim_frames[-50::5], errorbar = False, figout = figout\n",
    "        )\n",
    "# save_figout(figout,'fig_profiles') # this allows you to reload and replot with additional data\n",
    "\n",
    "#------- Here is an example for reploting and overlaying data\n",
    "# import matplotlib.pyplot as plt\n",
    "# plt.rcParams[\"figure.figsize\"] = (6,4)\n",
    "# plt.rcParams[\"font.size\"] = 16\n",
    "# figdatadict = load_figout('fig_profiles')\n",
    "\n",
    "# n_plot = figdatadict[0]\n",
    "# ne_sim = n_plot['curves'][0]\n",
    "# ne_exp = {}\n",
    "# ne_exp['label'] =r'$n_e^{exp}$';\n",
    "# data = np.loadtxt('ne_exp.txt', delimiter=',') \n",
    "# ne_exp['xdata'] = data[:,0]/simulation.normalization['xscale']+1;\n",
    "# ne_exp['ydata'] = data[:,1];\n",
    "\n",
    "# plt.plot(ne_sim['xdata'],ne_sim['ydata'],label=ne_sim['label'])\n",
    "# plt.plot(ne_exp['xdata'],ne_exp['ydata'],'ok',label=ne_exp['label'])\n",
    "# plt.legend()\n",
    "# plt.ylabel(r'1/m${^3}$')\n",
    "# plt.xlabel('r/a')\n",
    "# plt.show()\n",
    "\n",
    "# T_plot = figdatadict[2]\n",
    "# Te_sim = T_plot['curves'][0]\n",
    "# Te_exp = {}\n",
    "# Te_exp['label'] =r'$T_e^{exp}$';\n",
    "# data = np.loadtxt('Te_exp.txt', delimiter=',') \n",
    "# Te_exp['xdata'] = data[:,0]/simulation.normalization['xscale']+1;\n",
    "# Te_exp['ydata'] = data[:,1];\n",
    "\n",
    "# plt.plot(Te_sim['xdata'],Te_sim['ydata'],label=Te_sim['label'])\n",
    "# plt.plot(Te_exp['xdata'],Te_exp['ydata'],'ok',label=Te_exp['label'])\n",
    "# plt.legend()\n",
    "# plt.ylabel('eV')\n",
    "# plt.xlabel('r/a')\n",
    "# plt.show()"
   ]
  },
  {
   "cell_type": "markdown",
   "id": "5772d205",
   "metadata": {},
   "source": [
    "### 2.8 Volume Integral Quantities <a id=\"volume_integrals\"></a>\n",
    "Plot volume-integrated quantities such as energies over time."
   ]
  },
  {
   "cell_type": "code",
   "execution_count": null,
   "id": "69e0051a",
   "metadata": {},
   "outputs": [],
   "source": [
    "# This format allows to plot different fields on top of eachother\n",
    "fieldnames = [\n",
    "    ['Wtote','Wtoti','Wtot'], # total internal energy and per species                 \n",
    "    ['Wkine','Wkini'], # kinetic energy per species\n",
    "    ['Wflue','Wflui'], # fluid kinetic energy per species\n",
    "    ['Wpote','Wpoti'] # potential energy per species\n",
    "    ]\n",
    "time_frames = sim_frames[::10] # recommended to avoid computing volume integral for each frames (can be long)\n",
    "plot_utils.plot_volume_integral_vs_t(\n",
    "    simulation, fieldnames, time_frames, plot_src_input=True)"
   ]
  },
  {
   "cell_type": "markdown",
   "id": "81c6101d",
   "metadata": {},
   "source": [
    "### 2.9 Grad B Loss <a id=\"gradb_loss\"></a>\n",
    "We compute the volume integral of the particle flux, $n v_{\\nabla B}$, and energy flux, $n T v_{\\nabla B}$, due to the magnetic gradient drift, $v_{\\nabla B}$, at the inner radial boundary.\n",
    "This does not depend on the srcGB parameters"
   ]
  },
  {
   "cell_type": "code",
   "execution_count": null,
   "id": "23e97693",
   "metadata": {},
   "outputs": [],
   "source": [
    "plot_utils.plot_GB_loss(simulation,sim_frames[:-1:10],\n",
    "                        losstype='particle',integrate=False)\n",
    "plot_utils.plot_GB_loss(simulation,sim_frames[:-1:10],\n",
    "                        losstype='energy',integrate=False)"
   ]
  },
  {
   "cell_type": "markdown",
   "id": "5e0775dd",
   "metadata": {},
   "source": [
    "### 2.10 Movie Generator <a id=\"movie_generator\"></a>\n",
    "Create a movie of 2D cuts over time."
   ]
  },
  {
   "cell_type": "code",
   "execution_count": null,
   "id": "a6be7e2f",
   "metadata": {},
   "outputs": [],
   "source": [
    "cut_dir = 'xz'\n",
    "cut_coord = 0.0\n",
    "time_frames = sim_frames[::4]\n",
    "fieldnames = ['ne', 'phi', 'Te', 'Ti']\n",
    "movieprefix = 'my_nice_movie'\n",
    "plot_utils.make_2D_movie(simulation, cut_dir=cut_dir, cut_coord=cut_coord, time_frames=time_frames, fieldnames=fieldnames)"
   ]
  },
  {
   "cell_type": "markdown",
   "id": "90dcee81",
   "metadata": {},
   "source": [
    "### 2.11 Phase Space Analysis <a id=\"dist_funct\"></a>\n",
    "This is done manually directly with the pgkyl routines. The distribution function files are usually very slow to load."
   ]
  },
  {
   "cell_type": "code",
   "execution_count": 16,
   "id": "518ccf4c",
   "metadata": {},
   "outputs": [],
   "source": [
    "#---------- 2D cuts of a frame of the distribution function (long to load)\n",
    "if False: #set it to true if you have some dist function data\n",
    "    import postgkyl as pg\n",
    "    # Simulation frame\n",
    "    tf = sim_frames[-2]\n",
    "    # Point where each cuts intersect [in Gkeyll units or indices]\n",
    "    xf = 0.025\n",
    "    yf = 0.0\n",
    "    zf = 0.0\n",
    "    vf = 0.0\n",
    "    mf = 0.0\n",
    "    \n",
    "    for spec in [elc,ion]:\n",
    "        #---- Load the distf\n",
    "        fname = simulation.get_filename('f'+spec.nshort,tf)\n",
    "        data = pg.data.GData(fname)\n",
    "        dg = pg.data.GInterpModal(data,1,'ms')\n",
    "        dg.interpolate(0,overwrite=True)\n",
    "\n",
    "        #---------------- 2D vpar x plots\n",
    "        cut = copy.copy(data)\n",
    "        pg.data.select(cut, z1=yf, z2=zf, z4=mf, overwrite=True)\n",
    "        pg.output.plot(cut, yscale=1./spec.vt,\n",
    "                    title=r\"y=%2.2f, z=%2.2f, $\\mu$=%2.2f, t=%2.2e (s)\"%(yf,zf,mf,data.ctx['time']),\n",
    "                    contour=False,diverging=False, xshift=-simulation.geom_param.x_LCFS,\n",
    "                    xlabel=r'$R-R_{lcfs}\\,(m)$',ylabel=r'$v_\\parallel/v_{th%s}$'%spec.nshort,\n",
    "                    clabel=r'$f_{%s}$'%spec.nshort);\n",
    "\n",
    "        #---------------- 2D mu x plots\n",
    "        cut = copy.copy(data)\n",
    "        pg.data.select(cut, z1=yf, z2=zf, z3=vf, overwrite=True)\n",
    "        pg.output.plot(cut, yscale=1./spec.mu0,\n",
    "                    title=r\"y=%2.2f, z=%2.2f, $v_\\parallel$=%2.2f, t=%2.2e (s)\"%(yf,zf,mf,data.ctx['time']),\n",
    "                    contour=False,diverging=False, xshift=-simulation.geom_param.x_LCFS,\n",
    "                    xlabel=r'$R-R_{lcfs}\\,(m)$',ylabel=r'$\\mu B/T_{%s}$'%spec.nshort,\n",
    "                    clabel=r'$f_{%s}$'%spec.nshort);\n",
    "\n",
    "        #---------------- 2D vpar mu plots\n",
    "        cut = copy.copy(data)\n",
    "        pg.data.select(cut, z0=xf, z1=yf, z2=zf, overwrite=True)\n",
    "        pg.output.plot(cut, yscale=1./spec.mu0,\n",
    "                    title=r\"x=%2.2f, y=%2.2f, z=%2.2f, t=%2.2e (s)\"%(xf,yf,zf,data.ctx['time']),\n",
    "                    contour=False,diverging=False, xshift=-simulation.geom_param.x_LCFS,\n",
    "                    xlabel=r'$v_\\parallel/v_{th%s}$'%spec.nshort,ylabel=r'$\\mu B/T_{%s}$'%spec.nshort,\n",
    "                    clabel=r'$f_{%s}$'%spec.nshort);"
   ]
  }
 ],
 "metadata": {
  "kernelspec": {
   "display_name": "pgkyl",
   "language": "python",
   "name": "python3"
  },
  "language_info": {
   "codemirror_mode": {
    "name": "ipython",
    "version": 3
   },
   "file_extension": ".py",
   "mimetype": "text/x-python",
   "name": "python",
   "nbconvert_exporter": "python",
   "pygments_lexer": "ipython3",
   "version": "3.12.3"
  }
 },
 "nbformat": 4,
 "nbformat_minor": 5
}
