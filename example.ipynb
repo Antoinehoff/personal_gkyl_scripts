{
 "cells": [
  {
   "cell_type": "markdown",
   "id": "66eb6f3f",
   "metadata": {},
   "source": [
    "# Simulation Analysis Notebook\n",
    "\n",
    "This Jupyter Notebook is designed to introduce a user to the PyGkyl library (unofficial naming). \n",
    "It includes many different examples of diagnostic tools that can be used to analyze Gkeyll GK simulation data. \n",
    "\n",
    "Antoine C.D. Hoffmann (@antoinehoff) -- Jan 13, 2025\n",
    "\n",
    "## Table of Contents\n",
    "1. [Prologue](#prologue)<br>\n",
    "    1.1 [Setup and Imports](#setup_imports)<br>\n",
    "    1.2 [Simulation Data Setup](#data_setup)<br>\n",
    "    1.3 [Simulation Class Initialization](#simulation_class)<br>\n",
    "    1.4 [Source Profiles and Input Power](#sources)<br>\n",
    "    1.5 [Time Frame and normalization](#time_frames)<br>\n",
    "\n",
    "2. [Simulation Data Analysis](sim_analysis)<br>\n",
    "    2.1 [1D Profile Relaxation](#1d_profile)<br>\n",
    "    2.2 [Space-Time Diagrams](#space_time)<br>\n",
    "    2.3 [Two-Dimensional Cut](#2d_cut)<br>\n",
    "    2.4 [Space-Time Fluctuation](#st_fluct_plot)<br>\n",
    "    2.5 [Two-Dimensional Fluctuation](#2d_fluct_plot)<br>\n",
    "    2.6 [Time-Averaged Profile](#time_averaged_profile)<br>\n",
    "    2.7 [Movie Generator](#movie_generator)<br>\n",
    "    2.8 [Flux Surface Time-Average Profiles](#fs_time_averaged_profile)<br>\n",
    "    2.9 [Time series](#time_series)<br>\n",
    "    2.10 [Volume Integral Quantities](#volume_integrals)<br>\n",
    "    2.11 [Grad B Loss](#gradb_loss)<br>\n",
    "    2.12 [Phase Space Analysis](#dist_funct)<br>\n",
    "    2.13 [DG Representation](#dg_rep)<br>\n",
    "    2.14 [Poloidal projection plot](#pol_plot)<br>"
   ]
  },
  {
   "cell_type": "markdown",
   "id": "3f8d3fae",
   "metadata": {},
   "source": [
    "## 1. Prologue <a id=\"prologue\"></a>\n",
    "This section imports necessary libraries and custom routines required for the analysis. It also builds a Simulation class instance that will deliver helpful data to the plotting routine. Finally, it looks for the available simulation frames."
   ]
  },
  {
   "cell_type": "markdown",
   "id": "08955a66",
   "metadata": {},
   "source": [
    "### 1.1 Simulation Data Path <a id=\"data_setup\"></a>\n",
    "Set up the path to the simulation data and its file prefix."
   ]
  },
  {
   "cell_type": "code",
   "execution_count": null,
   "id": "ff587e4f",
   "metadata": {},
   "outputs": [],
   "source": [
    "simdir = 'sim_data_dir_example/3x2v_example/gk_tcv_posD_iwl_3x2v_electron_heating/'\n",
    "fileprefix = 'gk_tcv_posD_iwl_3x2v_D02'"
   ]
  },
  {
   "cell_type": "markdown",
   "id": "7c2202b4",
   "metadata": {},
   "source": [
    "### 1.2 Import PyGkyl <a id=\"setup_import\"></a>\n",
    "Install and import the pygkyl library. (if needed you can also install postgkyl here)"
   ]
  },
  {
   "cell_type": "code",
   "execution_count": null,
   "id": "7cc91899-4880-4242-a5d5-a2ad71e67203",
   "metadata": {},
   "outputs": [],
   "source": [
    "import sys\n",
    "\n",
    "install_pgkyl = False\n",
    "if install_pgkyl:\n",
    "    print(\"pull postgkyl repository\")\n",
    "    !git -C ~/postgkyl/ pull\n",
    "    # install postgkyl (required by pygkyl)\n",
    "    !{sys.executable} -m pip install ~/postgkyl/ > ~/personal_gkyl_scripts/pygkyl/postgkyl_install.log\n",
    "\n",
    "install_pygkyl = True\n",
    "if install_pygkyl:\n",
    "    print(\"pull personal_gkyl_scripts repository\")\n",
    "    !git -C ~/personal_gkyl_scripts/ pull\n",
    "    # Clean the pygkyl build and egg-info directories\n",
    "    !rm -rf ~/personal_gkyl_scripts/pygkyl/pygkyl.egg-info\n",
    "    !rm -rf ~/personal_gkyl_scripts/pygkyl/build\n",
    "    # Install the pygkyl package\n",
    "    !{sys.executable} -m pip install ~/personal_gkyl_scripts/pygkyl > ~/personal_gkyl_scripts/pygkyl/pygkyl_install.log\n",
    "# Import the pygkyl package\n",
    "import pygkyl"
   ]
  },
  {
   "cell_type": "markdown",
   "id": "572f2ceb",
   "metadata": {},
   "source": [
    "### 1.3 Simulation Class Initialization <a id=\"simulation_class\"></a>\n",
    "Initialize the `Simulation` class (see /python_utilities/classes/simulation.py) and set physical and geometric parameters.\n",
    "\n",
    "The simulation class is made to contain every parameter and information about the simulation we want to analyze. It is meant to store geometry, metric, where the data are located and how they were generated. It will be used by all plot and post processing routines.\n",
    "\n",
    "For now we pass many simulation parameters manually as not all simulation parameters are stored in the output file metadata. The parameters of some simulation configurations are stored in `pygkyl/configs/simulation_configs.py`, we load them from here to make the code sparser."
   ]
  },
  {
   "cell_type": "code",
   "execution_count": null,
   "id": "b703cac7",
   "metadata": {},
   "outputs": [],
   "source": [
    "simulation = pygkyl.simulation_configs.import_config( 'TCV_PT', simdir, fileprefix)\n",
    "simulation.data_param.info()"
   ]
  },
  {
   "cell_type": "markdown",
   "id": "a6195a8c",
   "metadata": {},
   "source": [
    "### 1.4 Source Profiles and Input Power <a id=\"sources\"></a>\n",
    "The sources were defined in the `import_config`. One can check the source with the following call:"
   ]
  },
  {
   "cell_type": "code",
   "execution_count": null,
   "id": "1a97d728",
   "metadata": {},
   "outputs": [],
   "source": [
    "pygkyl.plot_utils.plot_sources_info(simulation, z_const=0, profileORgkyldata='profile')"
   ]
  },
  {
   "cell_type": "markdown",
   "id": "67621486",
   "metadata": {},
   "source": [
    "### 1.5 Time Frame and normalization <a id=\"time_frames\"></a>\n",
    "Load available time frames and integrated moment diagnostics.\n",
    "\n",
    "We can set up different units for the plots. These calls will adapt automatically all plotting routine, setting up the axes accordingly.\n",
    "\n",
    "We also look for all available frames, i.e. we look for all number XX in \"[fileprefix]-[fieldname]_XX.gkyl\""
   ]
  },
  {
   "cell_type": "code",
   "execution_count": null,
   "id": "5659084a",
   "metadata": {},
   "outputs": [],
   "source": [
    "simulation.normalization.set('t','mus') # time in micro-seconds\n",
    "simulation.normalization.set('x','minor radius') # radial coordinate normalized by the minor radius (rho=r/a)\n",
    "simulation.normalization.set('y','Larmor radius') # binormal in term of reference sound Larmor radius\n",
    "simulation.normalization.set('z','pi') # parallel angle devided by pi\n",
    "simulation.normalization.set('fluid velocities','thermal velocity') # fluid velocity moments are normalized by the thermal velocity\n",
    "simulation.normalization.set('temperatures','eV') # temperatures in electron Volt\n",
    "simulation.normalization.set('pressures','Pa') # pressures in Pascal\n",
    "simulation.normalization.set('energies','MJ') # energies in mega Joules\n",
    "simulation.normalization.set('current','kA') # currents in kA\n",
    "# For printing the available normalizations\n",
    "# simulation.normalization.info()"
   ]
  },
  {
   "cell_type": "markdown",
   "id": "f3c42e55",
   "metadata": {},
   "source": [
    "## 2. Simulation Data Analysis <a id=\"sim_analysis\"></a>\n",
    "We now use the plot routines defined in `python_utilities/tools/plot_utils.py` to generated various plots from the Simulation instance.\n",
    "You can use `simulation.data_param.help()` to display what fields are available"
   ]
  },
  {
   "cell_type": "code",
   "execution_count": null,
   "id": "615ba745",
   "metadata": {},
   "outputs": [],
   "source": [
    "# simulation.data_param.info()"
   ]
  },
  {
   "cell_type": "markdown",
   "id": "d6aec7a0",
   "metadata": {},
   "source": [
    "We look for frames in the simulation data directory and store them in a list."
   ]
  },
  {
   "cell_type": "code",
   "execution_count": null,
   "id": "f3e53964",
   "metadata": {},
   "outputs": [],
   "source": [
    "fieldname = 'field' #e.g. we check the electrostatic field files.\n",
    "sim_frames = pygkyl.file_utils.find_available_frames(simulation,fieldname)\n",
    "print(\"Time frames available from %g to %g\"%(sim_frames[0],sim_frames[-1]))"
   ]
  },
  {
   "cell_type": "markdown",
   "id": "9362c7f8",
   "metadata": {},
   "source": [
    "Plot the integrated moment diagnostic. Additional options for computing the time derivative `ddt` and plotting only on a specific time interval `twindow` are available."
   ]
  },
  {
   "cell_type": "code",
   "execution_count": null,
   "id": "2edc4608",
   "metadata": {},
   "outputs": [],
   "source": [
    "fieldnames = [['ntot'],['Wtot'],['Tpare','Tpari'],['Tperpe','Tperpi']] # this is for Bimaxwellian moments\n",
    "# fieldnames = [['ne','ni','ntot'],['He','Hi','Htot']] # this is for Hamiltonian moments\n",
    "time = pygkyl.plot_utils.plot_integrated_moment(simulation,fieldnames=fieldnames,ddt=False,twindow=[])"
   ]
  },
  {
   "cell_type": "markdown",
   "id": "17c11605",
   "metadata": {},
   "source": [
    "One can also check the integrated Hamiltonian and boundary fluxes if we are using a recent version of gkylzero (March 2025)."
   ]
  },
  {
   "cell_type": "code",
   "execution_count": null,
   "id": "b59f0deb",
   "metadata": {},
   "outputs": [],
   "source": [
    "# fieldnames = [['ne','ni','ntot'],['He','Hi','Htot']]\n",
    "# time = pygkyl.plot_utils.plot_integrated_moment(simulation,fieldnames=fieldnames, ddt=True)\n",
    "# fieldnames = [['bflux_x_l_ntot','bflux_x_u_ntot','bflux_z_l_ntot','bflux_z_u_ntot','bflux_total_ntot'],\n",
    "#               ['bflux_x_l_Htot','bflux_x_u_Htot','bflux_z_l_Htot','bflux_z_u_Htot','bflux_total_Htot']]\n",
    "# time = pygkyl.plot_utils.plot_integrated_moment(simulation,fieldnames=fieldnames, ddt=True)"
   ]
  },
  {
   "cell_type": "markdown",
   "id": "29955b58",
   "metadata": {},
   "source": [
    "### 2.1 Profile relaxation <a id=\"1d_profile\"></a>\n",
    "Plot 1D cuts for multiple time frames.\n",
    "- `cut_direction`   The dimension that remains after the cut. Can be 'x','y','z' and 'ky'.\n",
    "- `cut_coords`      The coordinate of the cut, can be a double corresponding to the physical position (in the normalized units defined above), an integer to select an index or 'avg' to average over the dimension.\n",
    "- `fieldnames`      The fields we want to plot. An array of char will create a multi plot. (see simulation.display_available_fields())\n",
    "- `frames`          The frames to plot\n"
   ]
  },
  {
   "cell_type": "code",
   "execution_count": null,
   "id": "e33dc1e5",
   "metadata": {},
   "outputs": [],
   "source": [
    "cut_direction='x' \n",
    "cut_coords=[0.0,0.0]\n",
    "fieldnames = ['ne','phi','Te','Ti','upare','upari']\n",
    "frames = sim_frames[-5]\n",
    "pygkyl.plot_utils.plot_1D_time_evolution(simulation,cut_direction,cut_coords,fieldnames,frames,space_time = False)"
   ]
  },
  {
   "cell_type": "markdown",
   "id": "53cb3730",
   "metadata": {},
   "source": [
    "### 2.2 Space-Time Diagrams <a id=\"space_time\"></a>\n",
    "Generate space-time diagrams for specified fields. Very useful to see the dynamics without a movie"
   ]
  },
  {
   "cell_type": "code",
   "execution_count": null,
   "id": "b7847901",
   "metadata": {},
   "outputs": [],
   "source": [
    "cut_dir = 'x'\n",
    "cut_coord = [0.0, 0.0]\n",
    "fieldnames = ['ne', 'phi']\n",
    "frames = sim_frames[-5:]\n",
    "figout = []\n",
    "pygkyl.plot_utils.plot_1D_time_evolution(simulation, cut_dir, cut_coord, fieldnames, frames, space_time=True, plot_type='imshow', figout=figout)\n",
    "# figout[0].savefig('ne_phi_space_time.png', dpi=300, bbox_inches='tight') # if you want to save the figure"
   ]
  },
  {
   "cell_type": "markdown",
   "id": "5c341f88",
   "metadata": {},
   "source": [
    "### 2.3 Two-dimensional Cut <a id=\"2d_cut\"></a>\n",
    "Generate a 2D cut plot at a specified plane and time frame."
   ]
  },
  {
   "cell_type": "code",
   "execution_count": null,
   "id": "8b277620",
   "metadata": {},
   "outputs": [],
   "source": [
    "cut_dir = 'xy' # the plane we want to plot\n",
    "cut_coord = 0.0 # the coordinate were the plan stands If normalized units are defined, \n",
    "# this number is in the normalize units. One can also specify a integer for array index \n",
    "# or 'avg' to get an average over the reduced dim.\n",
    "time_frame = sim_frames[-1] # the time frame\n",
    "fieldnames = ['ne', 'ni', 'Te', 'Ti', 'phi', 'qdens', 'upare', 'upari'] # the fields to plot, see simulation.display_available_fields() (some may not work in 2x2v)\n",
    "pygkyl.plot_utils.plot_2D_cut(simulation, cut_dir, cut_coord, time_frame,fieldnames,plot_type='imshow')"
   ]
  },
  {
   "cell_type": "markdown",
   "id": "2ee802ae",
   "metadata": {},
   "source": [
    "### 2.4 Space Time and 2D cut Fluctuation <a id=\"st_fluct_plot\"></a>\n",
    "Generate a fluctuation plot by averaging over a time window and then substracting this average to each time frame. The average is performed against time only. If `coords` is set to be 'avg', additional averages are performed for both background and fluctuations."
   ]
  },
  {
   "cell_type": "code",
   "execution_count": null,
   "id": "fe48313e",
   "metadata": {},
   "outputs": [],
   "source": [
    "cut_direction='x' \n",
    "cut_coords=[0.0,0.0]\n",
    "fieldnames = ['ne','ni','Te','Ti']\n",
    "frames = sim_frames[-2:]\n",
    "pygkyl.plot_utils.plot_1D_time_evolution(\n",
    "    simulation,cut_direction,cut_coords,fieldnames,frames,\n",
    "    space_time = True, fluctuation = True,plot_type='imshow')"
   ]
  },
  {
   "cell_type": "markdown",
   "id": "68fcd474",
   "metadata": {},
   "source": [
    "### 2.5 Two-Dimensional Fluctuation <a id=\"2d_fluct_plot\"></a>\n",
    "Display the fluctuation of a field on a 2D plane"
   ]
  },
  {
   "cell_type": "code",
   "execution_count": null,
   "id": "3bb50cdd",
   "metadata": {},
   "outputs": [],
   "source": [
    "cplane='xz' \n",
    "ccoord = 0.0\n",
    "frames = sim_frames[-2:]\n",
    "fieldnames = ['Ti']\n",
    "pygkyl.plot_utils.plot_2D_cut(\n",
    "    simulation, cplane, ccoord, frames, fieldnames,\n",
    "    time_average = False,fluctuation = True,plot_type='imshow')"
   ]
  },
  {
   "cell_type": "markdown",
   "id": "eefb0121",
   "metadata": {},
   "source": [
    "### 2.6 Time-Averaged Profile  <a id=\"time_averaged_profile\"></a>\n",
    "Here we show the ExB shear averaged over time of the last 50 frames. We generate also error bars that are related to the standard deviation."
   ]
  },
  {
   "cell_type": "code",
   "execution_count": null,
   "id": "75f41116",
   "metadata": {},
   "outputs": [],
   "source": [
    "cdirection='x'\n",
    "ccoords=['avg',0.0]\n",
    "fieldnames = ['sExBy_x']\n",
    "time_frames = sim_frames[-2:]\n",
    "pygkyl.plot_utils.plot_1D(\n",
    "    simulation,cdirection,ccoords,fieldnames,\n",
    "    time_frames, errorbar = True,)"
   ]
  },
  {
   "cell_type": "markdown",
   "id": "5e0775dd",
   "metadata": {},
   "source": [
    "### 2.7 Movie Generator <a id=\"movie_generator\"></a>\n",
    "Create a first movie of 2D cuts over time and a second of the fluctuations over the last 25 frames"
   ]
  },
  {
   "cell_type": "code",
   "execution_count": null,
   "id": "a6be7e2f",
   "metadata": {},
   "outputs": [],
   "source": [
    "cut_dir = 'xz'\n",
    "cut_coord = 0.0\n",
    "time_frames = sim_frames[-2:]\n",
    "fieldnames = ['Ti']\n",
    "movieprefix = 'gallery/example_movie'\n",
    "pygkyl.plot_utils.make_2D_movie(simulation, cut_dir=cut_dir, cut_coord=cut_coord, time_frames=time_frames, fieldnames=fieldnames, movieprefix=movieprefix, plot_type='imshow')"
   ]
  },
  {
   "cell_type": "markdown",
   "id": "b3a86067",
   "metadata": {},
   "source": [
    "We can also make a movie of fluctuations. The background is the average of the values during the movie time."
   ]
  },
  {
   "cell_type": "code",
   "execution_count": null,
   "id": "0a0dd7a6",
   "metadata": {},
   "outputs": [],
   "source": [
    "cut_dir = 'xy'\n",
    "cut_coord = 0.0\n",
    "time_frames = sim_frames[-2:]\n",
    "fluctuation = True\n",
    "fieldnames = ['Ti']\n",
    "movieprefix = 'gallery/example_movie_fluct'\n",
    "pygkyl.plot_utils.make_2D_movie(simulation, cut_dir=cut_dir, cut_coord=cut_coord, time_frames=time_frames, fieldnames=fieldnames, fluctuation=fluctuation, movieprefix=movieprefix, plot_type='imshow')"
   ]
  },
  {
   "cell_type": "markdown",
   "id": "c601334f",
   "metadata": {},
   "source": [
    "### 2.8 Flux Surface Time-Average Profiles <a id=\"fs_time_averaged_profile\"></a>\n",
    "We also add a small example on how to save the figure. You can replot it by following the example in `pygkyl/examples/load_figout.py`."
   ]
  },
  {
   "cell_type": "code",
   "execution_count": null,
   "id": "cda11015-93d5-4eb5-9038-bc1fa82fb58b",
   "metadata": {},
   "outputs": [],
   "source": [
    "figout = []\n",
    "cdirection='x'; ccoords=['avg','avg']\n",
    "pygkyl.plot_utils.plot_1D(\n",
    "        simulation,cdirection,ccoords,\n",
    "        fieldnames = [['ne','ni'],['upare','upari'],\n",
    "                      ['Te','Ti'],['pe','pi'],\n",
    "                #       'qdens','phi',\n",
    "                #       ['ExB_hflux_xe','ExB_hflux_xi'], ['Wtote','Wtoti']\n",
    "                     ],\n",
    "        time_frames = sim_frames[-2:], errorbar = False, figout = figout\n",
    "        )\n",
    "pygkyl.fig_tools.save_figout(figout,'fig_profiles') # this allows you to reload and replot with additional data"
   ]
  },
  {
   "cell_type": "markdown",
   "id": "1e7a5f68",
   "metadata": {},
   "source": [
    "### 2.9 Time series <a id=\"time_series\"></a>\n"
   ]
  },
  {
   "cell_type": "code",
   "execution_count": null,
   "id": "6e099e8c",
   "metadata": {},
   "outputs": [],
   "source": [
    "fieldnames = [['ne','ni'],'phi']\n",
    "cut_coords = [1.1,'avg',0]\n",
    "time_frames = sim_frames[-5:]\n",
    "pygkyl.plot_utils.plot_time_serie(simulation,fieldnames,cut_coords,time_frames)"
   ]
  },
  {
   "cell_type": "markdown",
   "id": "90dcee81",
   "metadata": {},
   "source": [
    "### 2.10 Phase Space Analysis <a id=\"dist_funct\"></a>\n",
    "This is done manually directly with the pgkyl routines. The distribution function files are usually very slow to load."
   ]
  },
  {
   "cell_type": "code",
   "execution_count": null,
   "id": "518ccf4c",
   "metadata": {},
   "outputs": [],
   "source": [
    "#---------- 2D cuts of a frame of the distribution function (long to load)\n",
    "if False: #set it to true if you have some dist function data\n",
    "    import postgkyl as pg\n",
    "    import copy\n",
    "    # Simulation frame\n",
    "    tf = sim_frames[-2]\n",
    "    # Point where each cuts intersect [in Gkeyll units or indices]\n",
    "    xf = 0.025\n",
    "    yf = 0.0\n",
    "    zf = 0.0\n",
    "    vf = 0.0\n",
    "    mf = 0.0\n",
    "    \n",
    "    for spec in [elc,ion]:\n",
    "        #---- Load the distf\n",
    "        fname = simulation.get_filename('f'+spec.nshort,tf)\n",
    "        data = pg.data.GData(fname)\n",
    "        dg = pg.data.GInterpModal(data,1,'ms')\n",
    "        dg.interpolate(0,overwrite=True)\n",
    "\n",
    "        #---------------- 2D vpar x plots\n",
    "        cut = copy.copy(data)\n",
    "        pg.data.select(cut, z1=yf, z2=zf, z4=mf, overwrite=True)\n",
    "        pg.output.plot(cut, yscale=1./spec.vt,\n",
    "                    title=r\"y=%2.2f, z=%2.2f, $\\mu$=%2.2f, t=%2.2e (s)\"%(yf,zf,mf,data.ctx['time']),\n",
    "                    contour=False,diverging=False, xshift=-simulation.geom_param.x_LCFS,\n",
    "                    xlabel=r'$R-R_{lcfs}\\,(m)$',ylabel=r'$v_\\parallel/v_{th%s}$'%spec.nshort,\n",
    "                    clabel=r'$f_{%s}$'%spec.nshort);\n",
    "\n",
    "        #---------------- 2D mu x plots\n",
    "        cut = copy.copy(data)\n",
    "        pg.data.select(cut, z1=yf, z2=zf, z3=vf, overwrite=True)\n",
    "        pg.output.plot(cut, yscale=1./spec.mu0,\n",
    "                    title=r\"y=%2.2f, z=%2.2f, $v_\\parallel$=%2.2f, t=%2.2e (s)\"%(yf,zf,mf,data.ctx['time']),\n",
    "                    contour=False,diverging=False, xshift=-simulation.geom_param.x_LCFS,\n",
    "                    xlabel=r'$R-R_{lcfs}\\,(m)$',ylabel=r'$\\mu B/T_{%s}$'%spec.nshort,\n",
    "                    clabel=r'$f_{%s}$'%spec.nshort);\n",
    "\n",
    "        #---------------- 2D vpar mu plots\n",
    "        cut = copy.copy(data)\n",
    "        pg.data.select(cut, z0=xf, z1=yf, z2=zf, overwrite=True)\n",
    "        pg.output.plot(cut, yscale=1./spec.mu0,\n",
    "                    title=r\"x=%2.2f, y=%2.2f, z=%2.2f, t=%2.2e (s)\"%(xf,yf,zf,data.ctx['time']),\n",
    "                    contour=False,diverging=False, xshift=-simulation.geom_param.x_LCFS,\n",
    "                    xlabel=r'$v_\\parallel/v_{th%s}$'%spec.nshort,ylabel=r'$\\mu B/T_{%s}$'%spec.nshort,\n",
    "                    clabel=r'$f_{%s}$'%spec.nshort);"
   ]
  },
  {
   "cell_type": "markdown",
   "id": "1ed93b93",
   "metadata": {},
   "source": [
    "### 2.11 DG representation <a id=\"dg_rep\"></a>\n",
    "Plot the data in the DG form with cells and segments (1D only)"
   ]
  },
  {
   "cell_type": "code",
   "execution_count": null,
   "id": "c84eab1d",
   "metadata": {},
   "outputs": [],
   "source": [
    "fieldname = 'Ti'\n",
    "sim_frame = sim_frames[-1]\n",
    "cutdir = 'z'\n",
    "cutcoord = [0.0, 0.0]\n",
    "xlim = []\n",
    "pygkyl.plot_utils.plot_DG_representation(simulation, fieldname, sim_frame, cutdir, cutcoord, xlim)"
   ]
  },
  {
   "cell_type": "markdown",
   "id": "988cc181",
   "metadata": {},
   "source": [
    "### 2.12 Poloidal projection plot <a id=\"pol_plot\"></a>\n",
    "Project the flux tube on a poloidal plane (play with `nzInterp` to change resolution vs comp. time).\n",
    "\n",
    "First we declare a poloidal projection object and set it up (declaring it upfront spares some run time as it can be reused for different plots.)"
   ]
  },
  {
   "cell_type": "code",
   "execution_count": null,
   "id": "cfe62f60",
   "metadata": {},
   "outputs": [],
   "source": [
    "polproj = pygkyl.PoloidalProjection()\n",
    "polproj.setup(simulation,nzInterp=32)"
   ]
  },
  {
   "cell_type": "markdown",
   "id": "d4ba4c6a",
   "metadata": {},
   "source": [
    "Now we can plot different fields like the ion pressure in a logarithmic scale:"
   ]
  },
  {
   "cell_type": "code",
   "execution_count": null,
   "id": "59e2ae98",
   "metadata": {},
   "outputs": [],
   "source": [
    "polproj.plot('pi',timeFrame=sim_frames[-1],colorScale='log',clim=[1e-3,1e-1])"
   ]
  },
  {
   "cell_type": "markdown",
   "id": "83b83c34",
   "metadata": {},
   "source": [
    "We can also plot the fluctuations (also available for movies)"
   ]
  },
  {
   "cell_type": "code",
   "execution_count": null,
   "id": "49ef8e8a",
   "metadata": {},
   "outputs": [],
   "source": [
    "polproj.plot('ni',timeFrame=sim_frames[-10:],fluctuation=True)"
   ]
  },
  {
   "cell_type": "markdown",
   "id": "a83869c9",
   "metadata": {},
   "source": [
    "Or the radial component of the gradB drift\n",
    "(here we also show how to customize the inset)"
   ]
  },
  {
   "cell_type": "code",
   "execution_count": null,
   "id": "74179cd5",
   "metadata": {},
   "outputs": [],
   "source": [
    "polproj.inset.xlim = [0.57,0.67] # set the x-axis limits of the inset\n",
    "polproj.inset.ylim = [0.02,0.25] # set the y-axis limits of the inset\n",
    "polproj.inset.markloc = [2,3] # provide the corner to mark the inset (1 low L, 2 low R, 3 up L, 4 up R)\n",
    "polproj.inset.lower_corner_rel_pos = (0.3,0.3) # set the relative position of the inset on the main plot\n",
    "climInset = [-20,20] # custom colorbar limits for the inset plot\n",
    "polproj.plot('gradBxB_xi',timeFrame=sim_frames[-1],climInset=climInset)\n",
    "polproj.reset_inset() # reset the inset to the default values"
   ]
  },
  {
   "cell_type": "markdown",
   "id": "6f527397",
   "metadata": {},
   "source": [
    "You can also create a movie of the poloidal projection"
   ]
  },
  {
   "cell_type": "code",
   "execution_count": null,
   "id": "ebbcfcf2",
   "metadata": {},
   "outputs": [],
   "source": [
    "polproj.movie('pi',moviePrefix='gallery/mov_example_',timeFrames=sim_frames[-5:],colorScale='log')"
   ]
  }
 ],
 "metadata": {
  "kernelspec": {
   "display_name": "pgkyl",
   "language": "python",
   "name": "python3"
  },
  "language_info": {
   "codemirror_mode": {
    "name": "ipython",
    "version": 3
   },
   "file_extension": ".py",
   "mimetype": "text/x-python",
   "name": "python",
   "nbconvert_exporter": "python",
   "pygments_lexer": "ipython3",
   "version": "3.12.3"
  }
 },
 "nbformat": 4,
 "nbformat_minor": 5
}
