{
 "cells": [
  {
   "cell_type": "code",
   "execution_count": null,
   "id": "d975679a",
   "metadata": {},
   "outputs": [],
   "source": [
    "import sys\n",
    "\n",
    "install_pgkyl = False\n",
    "if install_pgkyl:\n",
    "    print(\"pull postgkyl repository\")\n",
    "    !git -C ~/postgkyl/ pull\n",
    "    # install postgkyl (required by pygkyl)\n",
    "    !{sys.executable} -m pip install ~/postgkyl/ > ~/personal_gkyl_scripts/pygkyl/postgkyl_install.log\n",
    "\n",
    "install_pygkyl = True\n",
    "if install_pygkyl:\n",
    "    print(\"pull personal_gkyl_scripts repository\")\n",
    "    !git -C ~/personal_gkyl_scripts/ pull\n",
    "    # Clean the pygkyl build and egg-info directories\n",
    "    !rm -rf ~/personal_gkyl_scripts/pygkyl/pygkyl.egg-info\n",
    "    !rm -rf ~/personal_gkyl_scripts/pygkyl/build\n",
    "    # Install the pygkyl package\n",
    "    !{sys.executable} -m pip install ~/personal_gkyl_scripts/pygkyl > ~/personal_gkyl_scripts/pygkyl/pygkyl_install.log\n",
    "# Import the pygkyl package\n",
    "import pygkyl"
   ]
  },
  {
   "cell_type": "code",
   "execution_count": null,
   "id": "5b20e10c",
   "metadata": {},
   "outputs": [],
   "source": [
    "simdir = '/Users/ahoffmann/gyacomo/simulations/problem_01/'\n",
    "fileprefix = 'outputs_00.h5'\n",
    "simulation = pygkyl.simulation_configs.import_config( 'gyacomo', simdir, fileprefix)"
   ]
  },
  {
   "cell_type": "code",
   "execution_count": null,
   "id": "3cc6403c",
   "metadata": {},
   "outputs": [],
   "source": [
    "time, Ni00, tf = simulation.gyac.load_data_3D_frame('phi',100.0, species='ion', xyz=True)\n",
    "import matplotlib.pyplot as plt\n",
    "\n",
    "plt.figure()\n",
    "plt.imshow(Ni00[:,:], origin='lower', aspect='auto')"
   ]
  }
 ],
 "metadata": {
  "kernelspec": {
   "display_name": ".venv",
   "language": "python",
   "name": "python3"
  },
  "language_info": {
   "codemirror_mode": {
    "name": "ipython",
    "version": 3
   },
   "file_extension": ".py",
   "mimetype": "text/x-python",
   "name": "python",
   "nbconvert_exporter": "python",
   "pygments_lexer": "ipython3",
   "version": "3.12.3"
  }
 },
 "nbformat": 4,
 "nbformat_minor": 5
}
