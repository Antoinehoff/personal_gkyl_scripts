{
 "cells": [
  {
   "cell_type": "code",
   "execution_count": null,
   "id": "d975679a",
   "metadata": {},
   "outputs": [],
   "source": [
    "import sys\n",
    "\n",
    "install_pgkyl = False\n",
    "if install_pgkyl:\n",
    "    print(\"pull postgkyl repository\")\n",
    "    !git -C ~/postgkyl/ pull\n",
    "    # install postgkyl (required by pygkyl)\n",
    "    !{sys.executable} -m pip install ~/postgkyl/ > ~/personal_gkyl_scripts/pygkyl/postgkyl_install.log\n",
    "\n",
    "install_pygkyl = True\n",
    "if install_pygkyl:\n",
    "    print(\"pull personal_gkyl_scripts repository\")\n",
    "    !git -C ~/personal_gkyl_scripts/ pull\n",
    "    # Clean the pygkyl build and egg-info directories\n",
    "    !rm -rf ~/personal_gkyl_scripts/pygkyl/pygkyl.egg-info\n",
    "    !rm -rf ~/personal_gkyl_scripts/pygkyl/build\n",
    "    # Install the pygkyl package\n",
    "    !{sys.executable} -m pip install ~/personal_gkyl_scripts/pygkyl > ~/personal_gkyl_scripts/pygkyl/pygkyl_install.log\n",
    "# Import the pygkyl package\n",
    "import pygkyl"
   ]
  },
  {
   "cell_type": "code",
   "execution_count": null,
   "id": "5b20e10c",
   "metadata": {},
   "outputs": [],
   "source": [
    "simdir = '/Users/ahoffmann/gyacomo/simulations/problem_01/'\n",
    "fileprefix = 'outputs_00.h5'\n",
    "simulation = pygkyl.simulation_configs.import_config( 'gyacomo', simdir, fileprefix)\n",
    "frame3D = simulation.gyac.get_available_frames('phi')"
   ]
  },
  {
   "cell_type": "code",
   "execution_count": null,
   "id": "d28e5fe3",
   "metadata": {},
   "outputs": [],
   "source": [
    "cut_dir = 'xy'\n",
    "cut_coord = 0.0\n",
    "time_frame = frame3D[-10]\n",
    "fieldname = 'phi'\n",
    "pygkyl.plot_utils.plot_2D_cut(simulation, cut_dir, cut_coord, time_frame, fieldname)"
   ]
  },
  {
   "cell_type": "code",
   "execution_count": null,
   "id": "12144417",
   "metadata": {},
   "outputs": [],
   "source": [
    "cut_dir = 'xy'\n",
    "cut_coord = 0.0\n",
    "time_frames = frame3D[:]\n",
    "fieldnames = ['phi']\n",
    "movieprefix = 'test'\n",
    "pygkyl.plot_utils.make_2D_movie(simulation, cut_dir=cut_dir, cut_coord=cut_coord, \n",
    "                                time_frames=time_frames, fieldnames=fieldnames, \n",
    "                                movieprefix=movieprefix, plot_type='imshow')"
   ]
  }
 ],
 "metadata": {
  "kernelspec": {
   "display_name": ".venv",
   "language": "python",
   "name": "python3"
  },
  "language_info": {
   "codemirror_mode": {
    "name": "ipython",
    "version": 3
   },
   "file_extension": ".py",
   "mimetype": "text/x-python",
   "name": "python",
   "nbconvert_exporter": "python",
   "pygments_lexer": "ipython3",
   "version": "3.12.3"
  }
 },
 "nbformat": 4,
 "nbformat_minor": 5
}
