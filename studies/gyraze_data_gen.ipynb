{
 "cells": [
  {
   "cell_type": "markdown",
   "id": "16cfd9e2",
   "metadata": {},
   "source": [
    "# GyrazeInterface HDF5 File Structure\n",
    "\n",
    "#### Overview\n",
    "The `GyrazeInterface` class converts Gkeyll simulation data into the format required by the GYRAZE code, storing multiple datasets in a single HDF5 file.\n",
    "\n",
    "```text\n",
    "gkeyll_gyraze_inputs.h5\n",
    "├── attributes:\n",
    "│   ├── description: \"Gyraze input data files from Gkeyll simulation\"\n",
    "│   └── nsample: <number of datasets>\n",
    "│\n",
    "├── Group: \"x_1.234_y_5.678_z_0.000_alpha_0.300_tf_50\" (or \"000001\" if numbered)\n",
    "│   ├── datasets:\n",
    "│   │   ├── Fe_mpe_args.txt    # Electron velocity/mu grid parameters\n",
    "│   │   ├── Fe_mpe.txt         # Electron distribution function\n",
    "│   │   ├── Fi_mpi_args.txt    # Ion velocity/mu grid parameters  \n",
    "│   │   ├── Fi_mpi.txt         # Ion distribution function\n",
    "│   │   └── input_physparams.txt # Physical parameters for GYRAZE\n",
    "│   │\n",
    "│   └── attributes:\n",
    "│       ├── x0, y0, z0: spatial coordinates\n",
    "│       ├── tf: timeframe\n",
    "│       ├── alphadeg: field line angle\n",
    "│       ├── B0, phi0: magnetic field and potential\n",
    "│       ├── ne0, ni0: electron and ion densities\n",
    "│       ├── Te0, Ti0: electron and ion temperatures\n",
    "│       ├── gamma0: rhoe_lambdaD parameter\n",
    "│       ├── nioverne, TioverTe: density and temperature ratios\n",
    "│       ├── mioverme, mi, me, e: mass and charge constants\n",
    "│       └── simprefix: simulation identifier\n",
    "│\n",
    "├── Group: \"x_2.345_y_6.789_z_1.000_alpha_0.300_tf_50\"\n",
    "│   └── ... (same structure)\n",
    "│\n",
    "└── ... (additional groups for each sampled point)\n",
    "```\n",
    "\n",
    "#### Usage\n",
    "You will need to first load your Gkeyll simulation with the `pygkyl` library and then create an instance of `GyrazeInterface`. Below is an example workflow"
   ]
  },
  {
   "cell_type": "code",
   "execution_count": null,
   "id": "7cc91899-4880-4242-a5d5-a2ad71e67203",
   "metadata": {},
   "outputs": [],
   "source": [
    "# First reset the pygkyl library\n",
    "import sys\n",
    "!rm -rf ~/personal_gkyl_scripts/pygkyl/pygkyl.egg-info\n",
    "!rm -rf ~/personal_gkyl_scripts/pygkyl/build\n",
    "!{sys.executable} -m pip install ~/personal_gkyl_scripts/pygkyl > ~/personal_gkyl_scripts/pygkyl/install.log\n",
    "\n",
    "import numpy as np\n",
    "import matplotlib.pyplot as plt\n",
    "import os\n",
    "import pygkyl\n",
    "\n",
    "simdir = '/Users/ahoffman/personal_gkyl_scripts/sim_data/3x2v/gk_tcv_adapt_src/'\n",
    "fileprefix = 'rt_gk_tcv_nt_iwl_3x2v_p1'\n",
    "simulation = pygkyl.simulation_configs.import_config('tcv_nt', simdir, fileprefix)\n",
    "simulation.normalization.set('fluid velocities','thermal velocity') # fluid velocity moments are normalized by the thermal velocity\n",
    "simulation.normalization.set('temperatures','eV') # temperatures in electron Volt\n",
    "simulation.normalization.set('pressures','Pa') # pressures in Pascal\n",
    "simulation.normalization.set('energies','MJ') # energies in mega Joules\n",
    "simulation.normalization.set('gradients','major radius') # gradients are normalized by the major radius\n",
    "\n",
    "sim_frames = simulation.available_frames['ion'] # you can check the available frames for each data type like ion_M0, ion_BiMaxwellian, etc.)\n",
    "print(\"%g time frames available (%g to %g)\"%(len(sim_frames),sim_frames[0],sim_frames[-1]))"
   ]
  },
  {
   "cell_type": "code",
   "execution_count": null,
   "id": "a451d2b7",
   "metadata": {},
   "outputs": [],
   "source": [
    "pygkyl.plot_utils.plot_2D_cut(simulation=simulation, \n",
    "                              fieldnames=['Bmag','phi','ne','ni','Te','Ti'],\n",
    "                              cut_dir='xy',\n",
    "                              cut_coord=0,\n",
    "                              time_frame=sim_frames[-1],\n",
    "                              clim=[[1.8,2.3],[0,300],[1e17,3e18],[1e17,5e18],[0,100],[0,300]],\n",
    "                              xlim =[0.04,0.12]\n",
    ")"
   ]
  },
  {
   "cell_type": "code",
   "execution_count": null,
   "id": "6be9ce1a",
   "metadata": {},
   "outputs": [],
   "source": [
    "outfilename = 'gyraze_input_data.h5'\n",
    "gyraze = pygkyl.GyrazeInterface(simulation, filter_negativity=False, number_datasets=True, outfilename=outfilename)\n",
    "gyraze.generate(\n",
    "    time_frames = sim_frames[-1], \n",
    "    # xmin = 0.045, \n",
    "    # xmax = 0.115,\n",
    "    # Nxsample = 10, \n",
    "    # Nysample = 10, \n",
    "    alphadeg = 4.0, \n",
    "    zplane = 'both', \n",
    "    verbose = False\n",
    ")\n",
    "gyraze.load_h5_data(outfilename)"
   ]
  },
  {
   "cell_type": "code",
   "execution_count": null,
   "id": "c8e0c6eb",
   "metadata": {},
   "outputs": [],
   "source": [
    "# gyraze.info()\n",
    "_ = gyraze.verify_h5_data(verbose=False,Nsamp=24)"
   ]
  },
  {
   "cell_type": "code",
   "execution_count": null,
   "id": "4e5b9068",
   "metadata": {},
   "outputs": [],
   "source": [
    "sidx = 0\n",
    "gyraze.extract_dataset_as_files(group_name=f'{sidx:06d}',output_dir='gyraze_data')"
   ]
  },
  {
   "cell_type": "code",
   "execution_count": null,
   "id": "bdc345fd",
   "metadata": {},
   "outputs": [],
   "source": [
    "gyraze.plot_attribute_histograms()"
   ]
  },
  {
   "cell_type": "code",
   "execution_count": null,
   "id": "3f7d4947",
   "metadata": {},
   "outputs": [],
   "source": [
    "fxy = lambda x: 3*x\n",
    "gyraze.plot_attribute_scatter(attr_x='Te0', attr_y='phi_norm0', color_by='x0')"
   ]
  }
 ],
 "metadata": {
  "kernelspec": {
   "display_name": ".venv",
   "language": "python",
   "name": "python3"
  },
  "language_info": {
   "codemirror_mode": {
    "name": "ipython",
    "version": 3
   },
   "file_extension": ".py",
   "mimetype": "text/x-python",
   "name": "python",
   "nbconvert_exporter": "python",
   "pygments_lexer": "ipython3",
   "version": "3.13.5"
  }
 },
 "nbformat": 4,
 "nbformat_minor": 5
}
