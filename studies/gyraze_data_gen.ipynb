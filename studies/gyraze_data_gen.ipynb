{
 "cells": [
  {
   "cell_type": "markdown",
   "id": "16cfd9e2",
   "metadata": {},
   "source": [
    "# GyrazeInterface HDF5 File Structure\n",
    "\n",
    "#### Overview\n",
    "The `GyrazeInterface` class converts Gkeyll simulation data into the format required by the GYRAZE code, storing multiple datasets in a single HDF5 file.\n",
    "\n",
    "```text\n",
    "gkeyll_gyraze_inputs.h5\n",
    "├── attributes:\n",
    "│   ├── description: \"Gyraze input data files from Gkeyll simulation\"\n",
    "│   └── nsample: <number of datasets>\n",
    "│\n",
    "├── Group: \"000001\"\n",
    "│   ├── datasets:\n",
    "│   │   ├── Fe_mpe_args.txt    # Electron velocity/mu grid parameters\n",
    "│   │   ├── Fe_mpe.txt         # Electron distribution function at magnetic presheath entrance\n",
    "│   │   ├── Fi_mpe_args.txt    # Ion velocity/mu grid parameters \n",
    "│   │   ├── Fi_mpe.txt         # Ion distribution function at magnetic presheath entrance\n",
    "│   │   │── input_physparams.txt # Physical parameters for GYRAZE\n",
    "│   │   └── input_numparams.txt  # Numerical parameters for GYRAZE\n",
    "│   │\n",
    "│   └── attributes:\n",
    "│       ├── x0, y0, z0: spatial coordinates\n",
    "│       ├── t0: time\n",
    "│       ├── tf: time frame index\n",
    "│       ├── alphadeg: field line angle\n",
    "│       ├── B0, phi0: magnetic field and potential\n",
    "│       ├── ne0, ni0: electron and ion densities\n",
    "│       ├── Te0, Ti0: electron and ion temperatures\n",
    "│       ├── gamma0: rhoe_lambdaD parameter\n",
    "│       ├── nioverne, TioverTe: density and temperature ratios\n",
    "│       ├── mioverme, mi, me, e: mass and charge constants\n",
    "│       └── simprefix: simulation path\n",
    "│\n",
    "├── Group: \"000002\"\n",
    "│   └── ... (same structure)\n",
    "│\n",
    "└── ... (additional groups for each sampled point)\n",
    "```\n",
    "\n",
    "#### Usage\n",
    "You will need to first load your Gkeyll simulation with the `pygkyl` library and then create an instance of `GyrazeInterface`. Below is an example workflow"
   ]
  },
  {
   "cell_type": "code",
   "execution_count": null,
   "id": "7cc91899-4880-4242-a5d5-a2ad71e67203",
   "metadata": {},
   "outputs": [],
   "source": [
    "# First reset the pygkyl library\n",
    "import sys\n",
    "!rm -rf ~/personal_gkyl_scripts/pygkyl/pygkyl.egg-info\n",
    "!rm -rf ~/personal_gkyl_scripts/pygkyl/build\n",
    "!{sys.executable} -m pip install ~/personal_gkyl_scripts/pygkyl > ~/personal_gkyl_scripts/pygkyl/install.log\n",
    "\n",
    "import numpy as np\n",
    "import matplotlib.pyplot as plt\n",
    "import os\n",
    "import pygkyl\n",
    "\n",
    "simdir = '/Users/ahoffman/personal_gkyl_scripts/sim_data/3x2v/gk_tcv_adapt_src/'\n",
    "fileprefix = 'rt_gk_tcv_nt_iwl_3x2v_p1'\n",
    "simulation = pygkyl.simulation_configs.import_config('tcv_nt', simdir, fileprefix)\n",
    "simulation.normalization.set('fluid velocities','thermal velocity') # fluid velocity moments are normalized by the thermal velocity\n",
    "simulation.normalization.set('temperatures','eV') # temperatures in electron Volt\n",
    "simulation.normalization.set('pressures','Pa') # pressures in Pascal\n",
    "simulation.normalization.set('energies','MJ') # energies in mega Joules\n",
    "simulation.normalization.set('gradients','major radius') # gradients are normalized by the major radius\n",
    "\n",
    "sim_frames = simulation.available_frames['ion'] # you can check the available frames for each data type like ion_M0, ion_BiMaxwellian, etc.)\n",
    "print(\"%g time frames available (%g to %g)\"%(len(sim_frames),sim_frames[0],sim_frames[-1]))"
   ]
  },
  {
   "cell_type": "code",
   "execution_count": null,
   "id": "a451d2b7",
   "metadata": {},
   "outputs": [],
   "source": [
    "pygkyl.plot_utils.plot_2D_cut(simulation=simulation, \n",
    "                              fieldnames=['Bmag','phi','ne','ni','Te','Ti'],\n",
    "                              cut_dir='xy',\n",
    "                              cut_coord=0,\n",
    "                              time_frame=sim_frames[-1],\n",
    "                              clim=[[1.8,2.3],[0,300],[1e17,3e18],[1e17,5e18],[0,100],[0,300]],\n",
    "                              xlim =[0.04,0.12]\n",
    ")"
   ]
  },
  {
   "cell_type": "code",
   "execution_count": null,
   "id": "b712b2cc",
   "metadata": {},
   "outputs": [],
   "source": [
    "pygkyl.plot_utils.plot_2D_cut(simulation=simulation, \n",
    "                              fieldnames=['fi','fe'],\n",
    "                              cut_dir='vparmu',\n",
    "                              time_frame=sim_frames[-1],\n",
    "                              cut_coord=[0.10,0.0,0])"
   ]
  },
  {
   "cell_type": "code",
   "execution_count": null,
   "id": "e2e03cb9",
   "metadata": {},
   "outputs": [],
   "source": [
    "pygkyl.plot_utils.plot_1D(simulation=simulation, \n",
    "                              fieldnames=['fi','fe'],\n",
    "                              cdirection='vpar',\n",
    "                              time_frames=sim_frames[-1],\n",
    "                              ccoords=[0.10,0.0,0,0.0])"
   ]
  },
  {
   "cell_type": "markdown",
   "id": "9678bdfa",
   "metadata": {},
   "source": [
    "## TODO\n",
    "- Need to evaluate things at the face not at quadrature points and double check that ther the distribution of ions is 0 for vpar > 0 at z=-Lz/2\n",
    "- Need to normalize the distribution functions Eq. 133 Gyraze paper"
   ]
  },
  {
   "cell_type": "code",
   "execution_count": null,
   "id": "6be9ce1a",
   "metadata": {},
   "outputs": [],
   "source": [
    "outfilename = 'gyraze_input_data.h5'\n",
    "gyraze = pygkyl.GyrazeInterface(simulation, number_datasets=True, outfilename=outfilename)\n",
    "# gyraze.generate(\n",
    "#     time_frames = sim_frames[:], \n",
    "#     xmin = 0.045,\n",
    "#     xmax = 0.115,\n",
    "#     Nxsample = 16,\n",
    "#     Nysample = 16,\n",
    "#     alphadeg = 2.5, \n",
    "#     zplane = 'both',\n",
    "#     filter_negativity = True,\n",
    "#     verbose = False,\n",
    "#     # lim_dict = {\n",
    "#     #     'phi_norm': {'min': 3.0},\n",
    "#     # }\n",
    "# )"
   ]
  },
  {
   "cell_type": "code",
   "execution_count": null,
   "id": "61d21f10",
   "metadata": {},
   "outputs": [],
   "source": [
    "# We can also load previously generated data\n",
    "filename = 'gyraze_input_data.h5'\n",
    "gyraze.load_h5_data(filename)\n",
    "# _ = gyraze.verify_h5_data(verbose=False,Nsamp=24)"
   ]
  },
  {
   "cell_type": "code",
   "execution_count": null,
   "id": "4e5b9068",
   "metadata": {},
   "outputs": [],
   "source": [
    "# Export the data contained in the h5 file at a given index as individual files for use in Gyraze\n",
    "sidx = 0\n",
    "gyraze.extract_dataset_as_files(group_name=f'{sidx:06d}',output_dir='gyraze_data')"
   ]
  },
  {
   "cell_type": "code",
   "execution_count": null,
   "id": "bdc345fd",
   "metadata": {},
   "outputs": [],
   "source": [
    "# Visualize the physical parameters that will be transferred to Gyraze\n",
    "gyraze.plot_data(alpha=1.0/np.sqrt(400))"
   ]
  },
  {
   "cell_type": "code",
   "execution_count": null,
   "id": "3f7d4947",
   "metadata": {},
   "outputs": [],
   "source": [
    "fxy = lambda x: -0.05*x + 7\n",
    "gyraze.plot_attribute_scatter(attr_x='x0', attr_y='nioverne', color_by='x0', fxy=None)"
   ]
  }
 ],
 "metadata": {
  "kernelspec": {
   "display_name": ".venv",
   "language": "python",
   "name": "python3"
  },
  "language_info": {
   "codemirror_mode": {
    "name": "ipython",
    "version": 3
   },
   "file_extension": ".py",
   "mimetype": "text/x-python",
   "name": "python",
   "nbconvert_exporter": "python",
   "pygments_lexer": "ipython3",
   "version": "3.13.5"
  }
 },
 "nbformat": 4,
 "nbformat_minor": 5
}
