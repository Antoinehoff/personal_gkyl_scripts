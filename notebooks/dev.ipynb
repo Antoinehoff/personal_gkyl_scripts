{
 "cells": [
  {
   "cell_type": "code",
   "execution_count": null,
   "id": "6ed3ebd0",
   "metadata": {},
   "outputs": [],
   "source": [
    "path_to_pygkyl = '~/pygkyl_install/'\n",
    "import sys\n",
    "import os\n",
    "if path_to_pygkyl not in sys.path:\n",
    "    sys.path.append(os.path.expanduser(path_to_pygkyl))\n",
    "\n",
    "if not os.path.exists(os.path.join(os.path.expanduser(path_to_pygkyl), '.git')):\n",
    "    os.system(f'git clone https://github.com/Antoinehoff/personal_gkyl_scripts.git {path_to_pygkyl}')\n",
    "else:\n",
    "    os.system(f'cd {os.path.expanduser(path_to_pygkyl)} && git pull')\n",
    "    \n",
    "# run the installation script\n",
    "script_path = os.path.join(path_to_pygkyl, 'scripts/pygkyl_install.py')\n",
    "os.system(f'python3 {script_path}');\n",
    "\n",
    "import pygkyl\n",
    "\n",
    "simdir = '/pscratch/sd/d/dliu2/main/gkylzero/output_3x2v_3/'\n",
    "fileprefix = 'gk_bgk_im_asdex_3x2v_p1'\n",
    "\n",
    "simulation = pygkyl.simulation_configs.import_config('d3d_nt', simdir, fileprefix)\n",
    "\n",
    "\n",
    "simulation.normalization.set('t','mus') # time in micro-seconds\n",
    "simulation.normalization.set('x','minor radius') # radial coordinate normalized by the minor radius (rho=r/a)\n",
    "simulation.normalization.set('y','y/rho_i') # binormal in term of reference sound Larmor radius\n",
    "simulation.normalization.set('ky','ky*rho_i') # binormal wavenumber in term of reference sound Larmor radius\n",
    "simulation.normalization.set('z','pi') # parallel angle devided by pi\n",
    "simulation.normalization.set('fluid velocities','thermal velocity') # fluid velocity moments are normalized by the thermal velocity\n",
    "simulation.normalization.set('temperatures','eV') # temperatures in electron Volt\n",
    "simulation.normalization.set('pressures','Pa') # pressures in Pascal\n",
    "simulation.normalization.set('energies','MJ') # energies in mega Joules\n",
    "simulation.normalization.set('current','kA') # currents in kA\n",
    "simulation.normalization.set('gradients','major radius') # gradients are normalized by the major radius\n",
    "\n",
    "# For printing the available normalizations\n",
    "# simulation.normalization.info()\n",
    "\n",
    "sim_frames = simulation.available_frames['field'] # you can check the available frames for each data type like ion_M0, ion_BiMaxwellian, etc.)\n",
    "print(\"%g time frames available (%g to %g)\"%(len(sim_frames),sim_frames[0],sim_frames[-1]))"
   ]
  },
  {
   "cell_type": "code",
   "execution_count": null,
   "id": "2b218eb0",
   "metadata": {},
   "outputs": [],
   "source": [
    "polproj = pygkyl.PoloidalProjection()\n",
    "polproj.setup(simulation,nzInterp=2)"
   ]
  }
 ],
 "metadata": {
  "kernelspec": {
   "display_name": "Python 3",
   "language": "python",
   "name": "python3"
  },
  "language_info": {
   "codemirror_mode": {
    "name": "ipython",
    "version": 3
   },
   "file_extension": ".py",
   "mimetype": "text/x-python",
   "name": "python",
   "nbconvert_exporter": "python",
   "pygments_lexer": "ipython3",
   "version": "3.12.11"
  }
 },
 "nbformat": 4,
 "nbformat_minor": 5
}
