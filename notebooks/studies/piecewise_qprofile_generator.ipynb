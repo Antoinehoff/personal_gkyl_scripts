{
 "cells": [
  {
   "cell_type": "markdown",
   "id": "870539c0",
   "metadata": {},
   "source": [
    "# Fitting of TCV q-Profiles\n",
    "\n",
    "This notebook performs polynomial and piecewise linear fits of the safety factor (q) profiles for TCV plasmas, and compares the resulting fits for q-profile, magnetic shear, and shift. The workflow includes visualization and extraction of fit coefficients for further use."
   ]
  },
  {
   "cell_type": "code",
   "execution_count": null,
   "id": "e87a7095",
   "metadata": {},
   "outputs": [],
   "source": [
    "import numpy as np\n",
    "import matplotlib.pyplot as plt\n",
    "from src.piecewise_qprofile_generator_inc import Context, run_qprofile_workflow, compare_qprofs"
   ]
  },
  {
   "cell_type": "markdown",
   "id": "036f6e78",
   "metadata": {},
   "source": [
    "## Resolution and num domain"
   ]
  },
  {
   "cell_type": "code",
   "execution_count": null,
   "id": "29f70ba9",
   "metadata": {},
   "outputs": [],
   "source": [
    "Nx = 48\n",
    "Npieces = 8\n",
    "x_in = 0.04\n",
    "x_out = 0.08"
   ]
  },
  {
   "cell_type": "markdown",
   "id": "5903cf34",
   "metadata": {},
   "source": [
    "## Positive triangularity configuration"
   ]
  },
  {
   "cell_type": "code",
   "execution_count": null,
   "id": "b2f5d194",
   "metadata": {},
   "outputs": [],
   "source": [
    "def q_PT_rpRaxis(R, ctx):\n",
    "    y = R\n",
    "    a, b, c, d = 497.3420166252413, -1408.736172826569, 1331.4134861681464, -419.00692601227627\n",
    "    return (a*y**3 + b*y**2 + c*y + d)\n",
    "\n",
    "ctx_PT = Context(\n",
    "    a_shift=0.25,\n",
    "    Z_axis=0.1414361745,\n",
    "    R_axis=0.8727315068,\n",
    "    B_axis=1.4,\n",
    "    R_LCFSmid=1.0968432365089495,\n",
    "    qfunc=q_PT_rpRaxis,\n",
    "    x_inner=x_in,\n",
    "    x_outer=x_out,\n",
    "    Nx=Nx,\n",
    "    Npieces=Npieces,\n",
    "    delta = 0.35\n",
    ")\n",
    "PT_qprof_data = run_qprofile_workflow(ctx_PT, q_PT_rpRaxis, return_data=True)"
   ]
  },
  {
   "cell_type": "markdown",
   "id": "4a167b9c",
   "metadata": {},
   "source": [
    "### Profile analysis"
   ]
  },
  {
   "cell_type": "code",
   "execution_count": null,
   "id": "f184183e",
   "metadata": {},
   "outputs": [],
   "source": [
    "run_qprofile_workflow(ctx_PT, q_PT_rpRaxis, plot=True)"
   ]
  },
  {
   "cell_type": "markdown",
   "id": "d322c2c2",
   "metadata": {},
   "source": [
    "### C Code for piecewise linear representation"
   ]
  },
  {
   "cell_type": "code",
   "execution_count": null,
   "id": "78bc6fe8",
   "metadata": {},
   "outputs": [],
   "source": [
    "run_qprofile_workflow(ctx_PT, q_PT_rpRaxis, print_code=True)"
   ]
  },
  {
   "cell_type": "markdown",
   "id": "719303eb",
   "metadata": {},
   "source": [
    "## Negative triangularity configuration"
   ]
  },
  {
   "cell_type": "code",
   "execution_count": null,
   "id": "64e12112",
   "metadata": {},
   "outputs": [],
   "source": [
    "def q_NT_rpRaxis(R, ctx):\n",
    "    y = R\n",
    "    a, b, c, d = 484.0615913225881, -1378.25993228584, 1309.3099150729233, -414.13270311478726\n",
    "    return (a*y**3 + b*y**2 + c*y + d)\n",
    "\n",
    "ctx_NT = Context(\n",
    "    a_shift=0.5,\n",
    "    Z_axis=0.1414361745,\n",
    "    R_axis=0.8867856264,\n",
    "    B_axis=1.4,\n",
    "    R_LCFSmid=1.0870056099999,\n",
    "    qfunc=q_NT_rpRaxis,\n",
    "    x_inner=x_in,\n",
    "    x_outer=x_out,\n",
    "    Nx=Nx,\n",
    "    Npieces=Npieces,\n",
    "    delta = -0.38\n",
    ")\n",
    "\n",
    "NT_qprof_data = run_qprofile_workflow(ctx_NT, q_NT_rpRaxis, return_data=True)"
   ]
  },
  {
   "cell_type": "code",
   "execution_count": null,
   "id": "975a0410",
   "metadata": {},
   "outputs": [],
   "source": [
    "run_qprofile_workflow(ctx_NT, q_NT_rpRaxis, plot=True)"
   ]
  },
  {
   "cell_type": "markdown",
   "id": "3053b78b",
   "metadata": {},
   "source": [
    "### C Code for piecewise linear representation"
   ]
  },
  {
   "cell_type": "code",
   "execution_count": null,
   "id": "1f0f4b63",
   "metadata": {},
   "outputs": [],
   "source": [
    "run_qprofile_workflow(ctx_NT, q_NT_rpRaxis, print_code=True)"
   ]
  },
  {
   "cell_type": "markdown",
   "id": "f8e2d502",
   "metadata": {},
   "source": [
    "## Comparison"
   ]
  },
  {
   "cell_type": "code",
   "execution_count": null,
   "id": "5a5d8975",
   "metadata": {},
   "outputs": [],
   "source": [
    "compare_qprofs(PT_qprof_data, NT_qprof_data)"
   ]
  },
  {
   "cell_type": "markdown",
   "id": "b94040c5",
   "metadata": {},
   "source": [
    "# Taking into account the Shafranov shift into the q-profile"
   ]
  },
  {
   "cell_type": "code",
   "execution_count": null,
   "id": "fe3d02fc",
   "metadata": {},
   "outputs": [],
   "source": [
    "ctx_PT_qshaf = ctx_PT\n",
    "def q_PT_Rshaf(R, ctx): return q_PT_rpRaxis(R,ctx)\n",
    "ctx_PT_qshaf.Rfunc = 'shaf'\n",
    "ctx_PT_qshaf.qfunc = q_PT_Rshaf\n",
    "PT_qshaf_data = run_qprofile_workflow(ctx_PT_qshaf, q_PT_Rshaf, return_data=True, plot=True, print_code=True)\n",
    "compare_qprofs(PT_qprof_data, PT_qshaf_data)"
   ]
  },
  {
   "cell_type": "code",
   "execution_count": null,
   "id": "13c9c2a5",
   "metadata": {},
   "outputs": [],
   "source": [
    "# Taking into account the Shafranov shift into the q-profile\n",
    "ctx_NT_qshaf = ctx_NT\n",
    "def q_NT_Rshaf(R, ctx): return q_NT_rpRaxis(R,ctx)\n",
    "ctx_NT_qshaf.Rfunc = 'shaf'\n",
    "ctx_NT_qshaf.qfunc = q_NT_Rshaf\n",
    "NT_qshaf_data = run_qprofile_workflow(ctx_NT_qshaf, q_NT_Rshaf, return_data=True, plot=True, print_code=True)\n",
    "compare_qprofs(NT_qprof_data, NT_qshaf_data)"
   ]
  }
 ],
 "metadata": {
  "kernelspec": {
   "display_name": "pgkyl",
   "language": "python",
   "name": "python3"
  },
  "language_info": {
   "codemirror_mode": {
    "name": "ipython",
    "version": 3
   },
   "file_extension": ".py",
   "mimetype": "text/x-python",
   "name": "python",
   "nbconvert_exporter": "python",
   "pygments_lexer": "ipython3",
   "version": "3.11.10"
  }
 },
 "nbformat": 4,
 "nbformat_minor": 5
}
