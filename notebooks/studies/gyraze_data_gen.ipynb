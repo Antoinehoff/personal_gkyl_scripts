{
 "cells": [
  {
   "cell_type": "code",
   "execution_count": null,
   "id": "7cc91899-4880-4242-a5d5-a2ad71e67203",
   "metadata": {},
   "outputs": [],
   "source": [
    "# First reset the pygkyl library\n",
    "import sys\n",
    "!rm -rf ~/personal_gkyl_scripts/pygkyl/pygkyl.egg-info\n",
    "!rm -rf ~/personal_gkyl_scripts/pygkyl/build\n",
    "!{sys.executable} -m pip install ~/personal_gkyl_scripts/pygkyl > ~/personal_gkyl_scripts/pygkyl/install.log\n",
    "\n",
    "import numpy as np\n",
    "import matplotlib.pyplot as plt\n",
    "import os\n",
    "\n",
    "# Configure plotting\n",
    "plt.rcParams[\"figure.figsize\"] = (5,4)\n",
    "\n",
    "# Custom libraries and routines\n",
    "import pygkyl\n",
    "\n",
    "home_dir = os.path.expanduser(\"~\")\n",
    "repo_dir = home_dir+'/personal_gkyl_scripts/'\n",
    "simdir = '/Users/ahoffman/personal_gkyl_scripts/sim_data/3x2v/gk_tcv_adapt_src/'\n",
    "fileprefix = 'rt_gk_tcv_nt_iwl_3x2v_p1'\n",
    "simulation = pygkyl.simulation_configs.import_config('tcv_nt', simdir, fileprefix)\n",
    "#simulation.normalization.set('t','mus') # time in micro-seconds\n",
    "#simulation.normalization.set('x','minor radius') # radial coordinate normalized by the minor radius (rho=r/a)\n",
    "#simulation.normalization.set('y','Larmor radius') # binormal in term of reference sound Larmor radius\n",
    "#simulation.normalization.set('z','pi') # parallel angle devided by pi\n",
    "simulation.normalization.set('fluid velocities','thermal velocity') # fluid velocity moments are normalized by the thermal velocity\n",
    "simulation.normalization.set('temperatures','eV') # temperatures in electron Volt\n",
    "simulation.normalization.set('pressures','Pa') # pressures in Pascal\n",
    "simulation.normalization.set('energies','MJ') # energies in mega Joules\n",
    "simulation.normalization.set('gradients','major radius') # gradients are normalized by the major radius\n",
    "#simulation.normalization.set('vpari','vt')\n",
    "#simulation.normalization.set('vpare','vt')\n",
    "#simulation.normalization.set('mui','mu0') # ion magnetic moment normalized by\n",
    "#simulation.normalization.set('mue','mu0') # electron magnetic moment normalized by\n",
    "\n",
    "sim_frames = simulation.available_frames['ion'] # you can check the available frames for each data type like ion_M0, ion_BiMaxwellian, etc.)\n",
    "print(\"%g time frames available (%g to %g)\"%(len(sim_frames),sim_frames[0],sim_frames[-1]))"
   ]
  },
  {
   "cell_type": "code",
   "execution_count": null,
   "id": "a451d2b7",
   "metadata": {},
   "outputs": [],
   "source": [
    "pygkyl.plot_utils.plot_2D_cut(simulation=simulation, \n",
    "                              fieldnames=['Bmag','phi','ne','ni','Te','Ti'],\n",
    "                              cut_dir='xy',\n",
    "                              cut_coord=0,\n",
    "                              time_frame=sim_frames[-1],\n",
    "                              clim=[[1.8,2.3],[0,300],[1e17,3e18],[1e17,5e18],[0,100],[0,300]],\n",
    "                              xlim =[0.04,0.12]\n",
    ")"
   ]
  },
  {
   "cell_type": "code",
   "execution_count": null,
   "id": "6be9ce1a",
   "metadata": {},
   "outputs": [],
   "source": [
    "outfilename = 'gyraze_input_data.h5'\n",
    "gyraze = pygkyl.GyrazeInterface(simulation, filter_negativity=False, number_datasets=True, outfilename=outfilename)\n",
    "tf=sim_frames[-1]\n",
    "xmin=0.045\n",
    "xmax=0.115\n",
    "Nxsample=24\n",
    "Nysample=24\n",
    "alphadeg=0.3\n",
    "zplane='both'\n",
    "verbose=False\n",
    "gyraze.generate(tf, xmin, xmax, Nxsample, Nysample, alphadeg, zplane, verbose)"
   ]
  },
  {
   "cell_type": "code",
   "execution_count": null,
   "id": "df62567b",
   "metadata": {},
   "outputs": [],
   "source": [
    "gyraze.dataset.attributes['B'].v0"
   ]
  },
  {
   "cell_type": "code",
   "execution_count": null,
   "id": "c8e0c6eb",
   "metadata": {},
   "outputs": [],
   "source": [
    "_ = gyraze.verify_h5_data(verbose=False,Nsamp=24)"
   ]
  },
  {
   "cell_type": "code",
   "execution_count": null,
   "id": "4e5b9068",
   "metadata": {},
   "outputs": [],
   "source": [
    "sidx = 0\n",
    "gyraze.extract_dataset_as_files(group_name=f'{sidx:06d}',output_dir='gyraze_data')"
   ]
  },
  {
   "cell_type": "code",
   "execution_count": null,
   "id": "bdc345fd",
   "metadata": {},
   "outputs": [],
   "source": [
    "attributes = ['B0','phi0','ni0','ne0','Ti0','Te0','gamma0','nioverne','TioverTe']\n",
    "values = []\n",
    "for attr in attributes:\n",
    "    values.append(gyraze.collect_attribute(attr))\n",
    "\n",
    "fig, axs = plt.subplots(3,3, figsize=(10,10))\n",
    "axs = axs.flatten()\n",
    "for i, attr in enumerate(attributes):\n",
    "    axs[i].hist(values[i], bins=32)\n",
    "    axs[i].set_title(attr)\n",
    "plt.tight_layout()"
   ]
  }
 ],
 "metadata": {
  "kernelspec": {
   "display_name": ".venv",
   "language": "python",
   "name": "python3"
  },
  "language_info": {
   "codemirror_mode": {
    "name": "ipython",
    "version": 3
   },
   "file_extension": ".py",
   "mimetype": "text/x-python",
   "name": "python",
   "nbconvert_exporter": "python",
   "pygments_lexer": "ipython3",
   "version": "3.13.5"
  }
 },
 "nbformat": 4,
 "nbformat_minor": 5
}
