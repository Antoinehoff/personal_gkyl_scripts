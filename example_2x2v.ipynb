{
 "cells": [
  {
   "cell_type": "markdown",
   "metadata": {},
   "source": [
    "# Simulation Analysis Notebook\n",
    "\n",
    "## Table of Contents\n",
    "1. [Prologue: Setup and Imports](#prologue)\n",
    "2. [Simulation Data Setup](#data_setup)\n",
    "3. [Simulation Class Initialization](#simulation_class)\n",
    "4. [Source Profiles and Input Power](#sources)\n",
    "5. [Time Frame and Diagnostics](#time_frames)\n",
    "6. [2D Cut Plot](#2d_cut)\n",
    "7. [1D Profile Relaxation](#1d_profile)\n",
    "8. [Space-Time Diagrams](#space_time)\n",
    "9. [Time averaged 1D profile](#timeavg_1dprof)\n",
    "10. [Volume Integral Quantities](#volume_integrals)\n",
    "11. [2D Cut Movie](#2d_movie)\n"
   ]
  },
  {
   "cell_type": "markdown",
   "metadata": {},
   "source": [
    "## 1. Prologue: Setup and Imports <a id=\"prologue\"></a>\n",
    "This section imports necessary libraries and custom routines required for the analysis."
   ]
  },
  {
   "cell_type": "code",
   "execution_count": null,
   "metadata": {},
   "outputs": [],
   "source": [
    "import numpy as np\n",
    "import matplotlib.pyplot as plt\n",
    "import os, sys\n",
    "\n",
    "# Configure plotting\n",
    "plt.rcParams[\"figure.figsize\"] = (6,4)\n",
    "\n",
    "# Custom libraries and routines\n",
    "home_dir = os.path.expanduser(\"~\")\n",
    "sys.path.append(home_dir+'/personal_gkyl_scripts/python_utilities')\n",
    "from classes import Simulation, Species\n",
    "from utils import *"
   ]
  },
  {
   "cell_type": "markdown",
   "metadata": {},
   "source": [
    "## 2. Simulation Data Setup <a id=\"data_setup\"></a>\n",
    "This section sets up the path to the simulation data and its file prefix."
   ]
  },
  {
   "cell_type": "code",
   "execution_count": 2,
   "metadata": {},
   "outputs": [],
   "source": [
    "simdir = 'sim_data_dir_example/2x2v_example'\n",
    "fileprefix = 'gk_bgk_im_asdex_selfOnly_2x2v_p1'"
   ]
  },
  {
   "cell_type": "markdown",
   "metadata": {},
   "source": [
    "## 3. Simulation Class Initialization <a id=\"simulation_class\"></a>\n",
    "Initialize the `Simulation` class (see /python_utilities/classes/simulation.py) and set physical and geometric parameters.\n",
    "\n",
    "The simulation class is made to contain every parameter and information about the simulation we want to analyze. It is meant to store geometry, metric, where the data are located and how they were generated. It will be used by all plot and post processing routines.\n",
    "\n",
    "For now we pass many simulation parameters manually as not all simulation parameters are stored in the output file metadata. This will be adapted later to read directly from the lua script that ran the simulation."
   ]
  },
  {
   "cell_type": "code",
   "execution_count": 3,
   "metadata": {},
   "outputs": [],
   "source": [
    "simulation = Simulation()\n",
    "simulation.set_phys_param(\n",
    "    B_axis = 1.4,           # Magnetic field at magnetic axis [T]\n",
    "    eps0 = 8.854e-12,       # Vacuum permittivity [F/m]\n",
    "    eV = 1.602e-19,         # Elementary charge [C]\n",
    "    mp = 1.673e-27,         # Proton mass [kg]\n",
    "    me = 9.109e-31,         # Electron mass [kg]\n",
    ")\n",
    "simulation.set_geom_param(\n",
    "    R_axis      = 0.8727315068,         # Magnetic axis major radius\n",
    "    Z_axis      = 0.1414361745,         # Magnetic axis height\n",
    "    R_LCFSmid   = 1.0968432365089495,   # Major radius of LCFS at the midplane\n",
    "    a_shift     = 0.25,                 # Parameter in Shafranov shift\n",
    "    kappa       = 1.5,                 # Elongation factor\n",
    "    delta       = 0.3,                 # Triangularity factor\n",
    "    q0          = None,                 # Safety factor (unused)\n",
    "    x_LCFS      = 0.04,                 # position of the LCFS (= core domain width)\n",
    "    x_out       = 0.08                  # SOL domain width\n",
    ")\n",
    "# Define the species\n",
    "ion = Species(name='ion',\n",
    "              m=2.01410177811*simulation.phys_param.mp, # Ion mass\n",
    "              q=simulation.phys_param.eV,               # Ion charge [C]\n",
    "              T0=100*simulation.phys_param.eV, \n",
    "              n0=2.0e19)\n",
    "elc = Species(name='elc',\n",
    "              m=simulation.phys_param.me, \n",
    "              q=-simulation.phys_param.eV, # Electron charge [C]\n",
    "              T0=100*simulation.phys_param.eV, \n",
    "              n0=2.0e19)\n",
    "# Add them to the simulation (we need to know this before setting up the data parameters)\n",
    "simulation.add_species(ion)\n",
    "simulation.add_species(elc)\n",
    "# This call will set up the data structure of the simulation and set up a large dictionary \n",
    "# conaining the receipes of many post processing quantities, see simulation.data_param.info()\n",
    "simulation.set_data_param( simdir = simdir, fileprefix = fileprefix, species = simulation.species)\n",
    "# This is the first call that will load data. \n",
    "# If the paths are not set up correctly, the script will fail here.\n",
    "simulation.geom_param.load_metric(simulation.data_param.fileprefix)"
   ]
  },
  {
   "cell_type": "markdown",
   "metadata": {},
   "source": [
    "## 4. Source Profiles and Input Power <a id=\"sources\"></a>\n",
    "Define source profiles and calculate input power and particle flux.\n",
    "\n",
    "The sources are passed to the previously defined parameters to the Simulation instance.\n",
    "\n",
    "A small print will display the input of energy and particle by a volume integration of the source profiles using the the Jacobian loaded in the metric."
   ]
  },
  {
   "cell_type": "code",
   "execution_count": null,
   "metadata": {},
   "outputs": [],
   "source": [
    "n_srcOMP=2.4e23\n",
    "x_srcOMP=0.0\n",
    "Te_srcOMP=2 * simulation.species['elc'].T0\n",
    "Ti_srcOMP=2 * simulation.species['ion'].T0\n",
    "sigma_srcOMP=0.03 * simulation.geom_param.Lx\n",
    "floor_src=1e-2\n",
    "def custom_density_src_profile(x,y,z):\n",
    "    return n_srcOMP * (np.exp(-((x - x_srcOMP) ** 2) / (2.0 * sigma_srcOMP ** 2)) + floor_src)\n",
    "def custom_temp_src_profile_elc(x, y = None, z = None):\n",
    "    mask = x < (x_srcOMP + 3 * sigma_srcOMP)\n",
    "    fout = np.empty_like(x)\n",
    "    fout[mask] = Te_srcOMP; fout[~mask] = Te_srcOMP * 3.0 / 8.0\n",
    "    return fout  \n",
    "def custom_temp_src_profile_ion( x, y = None, z = None):\n",
    "    mask = x < (x_srcOMP + 3 * sigma_srcOMP)\n",
    "    fout = np.empty_like(x)\n",
    "    fout[mask] = Ti_srcOMP; fout[~mask] = Ti_srcOMP * 3.0 / 8.0\n",
    "    return fout   \n",
    "simulation.set_OMPsources(n_srcOMP=n_srcOMP,x_srcOMP=x_srcOMP,\n",
    "                          Te_srcOMP=Te_srcOMP,Ti_srcOMP=Ti_srcOMP,\n",
    "                          sigma_srcOMP=sigma_srcOMP,floor_src=floor_src,\n",
    "                          density_src_profile=custom_density_src_profile,\n",
    "                          temp_src_profile_elc=custom_temp_src_profile_elc,\n",
    "                          temp_src_profile_ion=custom_temp_src_profile_ion)\n",
    "print(\"Input power:    %g MW\"%(simulation.get_input_power()/1e6))\n",
    "print(\"Input particle: %g part/s\"%(simulation.get_input_particle()))"
   ]
  },
  {
   "cell_type": "markdown",
   "metadata": {},
   "source": [
    "## 5. Time Frame and normalization <a id=\"time_frames\"></a>\n",
    "Load available time frames and integrated moment diagnostics.\n",
    "\n",
    "We can set up different units for the plots. These calls will adapt automatically all plotting routine, setting up the axes accordingly.\n",
    "\n",
    "We also look for all available frames, i.e. we look for all number XX in \"[fileprefix]-[fieldname]_XX.gkyl\""
   ]
  },
  {
   "cell_type": "code",
   "execution_count": null,
   "metadata": {},
   "outputs": [],
   "source": [
    "simulation.normalize('t','mus') # time in micro-seconds\n",
    "simulation.normalize('x','minor radius') # radial coordinate normalized by the minor radius (rho=r/a)\n",
    "simulation.normalize('y','Larmor radius') # binormal in term of reference sound Larmor radius\n",
    "simulation.normalize('z','pi') # parallel angle devided by pi\n",
    "simulation.normalize('fluid velocities','thermal velocity') # fluid velocity moments are normalized by the thermal velocity\n",
    "simulation.normalize('temperatures','eV') # temperatures in electron Volt\n",
    "simulation.normalize('pressures','Pa') # pressures in Pascal\n",
    "simulation.normalize('energies','MJ') # energies in mega Joules\n",
    "\n",
    "fieldname = fileprefix+'-field' #e.g. we check the electrostatic field files.\n",
    "sim_frames = find_available_frames(simulation,fieldname)\n",
    "print(\"Time frames available from %g to %g\"%(sim_frames[0],sim_frames[-1]))"
   ]
  },
  {
   "cell_type": "markdown",
   "metadata": {},
   "source": [
    "## 6. 2D Cut Plot <a id=\"2d_cut\"></a>\n",
    "Generate a 2D cut plot at a specified plane and time frame."
   ]
  },
  {
   "cell_type": "code",
   "execution_count": null,
   "metadata": {},
   "outputs": [],
   "source": [
    "cut_dir = 'xz' # the plane we want to plot\n",
    "cut_coord = 0.0 # the coordinate were the plan stands If normalized units are defined, \n",
    "# this number is in the normalize units. One can also specify a integer for array index \n",
    "# or 'avg' to get an average over the reduced dim.\n",
    "time_frame = sim_frames[-1] # the time frame\n",
    "fieldnames = ['ne', 'phi', 'Te', 'Ti'] # the fields to plot, see simulation.display_available_fields() (some may not work in 2x2v)\n",
    "plot_2D_cut(simulation, cut_dir, cut_coord, time_frame, fieldnames)"
   ]
  },
  {
   "cell_type": "markdown",
   "metadata": {},
   "source": [
    "## 7. 1D Profile Relaxation <a id=\"1d_profile\"></a>\n",
    "Plot the relaxation of 1D profiles over time."
   ]
  },
  {
   "cell_type": "code",
   "execution_count": null,
   "metadata": {},
   "outputs": [],
   "source": [
    "cdirection = 'x'\n",
    "ccoords = [0.0, 0.0]\n",
    "fieldnames=['ne', 'phi', 'Te', 'Ti']\n",
    "plot_1D_time_evolution(simulation, cdirection, ccoords, fieldnames, sim_frames[1:10])"
   ]
  },
  {
   "cell_type": "markdown",
   "metadata": {},
   "source": [
    "## 8. Space-Time Diagrams <a id=\"space_time\"></a>\n",
    "Generate space-time diagrams for specified fields. Very useful to see the dynamics without a movie"
   ]
  },
  {
   "cell_type": "code",
   "execution_count": null,
   "metadata": {},
   "outputs": [],
   "source": [
    "cut_dir = 'x'\n",
    "cut_coord = [0.0, 0.0]\n",
    "fieldnames = ['ne', 'phi']\n",
    "plot_1D_time_evolution(simulation, cut_dir, cut_coord, fieldnames, sim_frames[:], space_time=True)"
   ]
  },
  {
   "cell_type": "markdown",
   "metadata": {},
   "source": [
    "## 9. Time averaged profiles <a id=\"timeavg_1dprof\"></a>\n",
    "Generate 1D field profiles by averaging over given time frames."
   ]
  },
  {
   "cell_type": "code",
   "execution_count": null,
   "metadata": {},
   "outputs": [],
   "source": [
    "figout = []\n",
    "cdirection='x'; ccoords=['avg',0.0]\n",
    "fieldnames = [['ne','ni'],['Te','Ti']]\n",
    "time_frames = sim_frames[-50:]\n",
    "plot_1D(simulation,cdirection,ccoords,fieldnames,time_frames, errorbar = False, figout = figout)"
   ]
  },
  {
   "cell_type": "markdown",
   "metadata": {},
   "source": [
    "## 10. Volume Integral Quantities <a id=\"volume_integrals\"></a>\n",
    "Plot volume-integrated quantities such as energies over time."
   ]
  },
  {
   "cell_type": "code",
   "execution_count": null,
   "metadata": {},
   "outputs": [],
   "source": [
    "fieldnames = [['Wtote', 'Wtoti'],['ne','ni']] # This format allows to plot different fields on top of eachother\n",
    "time_frames = sim_frames[::2] # recommended to avoid computing volume integral for each frames (can be long)\n",
    "plot_volume_integral_vs_t(simulation, fieldnames, time_frames)"
   ]
  },
  {
   "cell_type": "markdown",
   "metadata": {},
   "source": [
    "## 11. 2D Cut Movie <a id=\"2d_movie\"></a>\n",
    "Create a movie of 2D cuts over time."
   ]
  },
  {
   "cell_type": "code",
   "execution_count": null,
   "metadata": {},
   "outputs": [],
   "source": [
    "cut_dir = 'xz'\n",
    "cut_coord = 0.0\n",
    "time_frames = sim_frames[::4]\n",
    "fieldnames = ['ne', 'phi', 'Te', 'Ti']\n",
    "movieprefix = 'my_nice_movie'\n",
    "make_2D_movie(simulation, cut_dir=cut_dir, cut_coord=cut_coord, time_frames=time_frames, fieldnames=fieldnames)"
   ]
  }
 ],
 "metadata": {
  "kernelspec": {
   "display_name": "pgkyl",
   "language": "python",
   "name": "python3"
  },
  "language_info": {
   "codemirror_mode": {
    "name": "ipython",
    "version": 3
   },
   "file_extension": ".py",
   "mimetype": "text/x-python",
   "name": "python",
   "nbconvert_exporter": "python",
   "pygments_lexer": "ipython3",
   "version": "3.12.3"
  }
 },
 "nbformat": 4,
 "nbformat_minor": 2
}
